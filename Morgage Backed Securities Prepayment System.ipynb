{
  "cells": [
    {
      "cell_type": "code",
      "execution_count": null,
      "metadata": {
        "colab": {
          "base_uri": "https://localhost:8080/"
        },
        "id": "32cRxCvj-lBO",
        "outputId": "fd11053e-e20e-4442-ae01-07e323338f7a"
      },
      "outputs": [
        {
          "name": "stdout",
          "output_type": "stream",
          "text": [
            "Cloning into 'major-project-data'...\n",
            "remote: Enumerating objects: 3, done.\u001b[K\n",
            "remote: Counting objects: 100% (3/3), done.\u001b[K\n",
            "remote: Compressing objects: 100% (2/2), done.\u001b[K\n",
            "remote: Total 3 (delta 0), reused 3 (delta 0), pack-reused 0\u001b[K\n",
            "Unpacking objects: 100% (3/3), done.\n"
          ]
        }
      ],
      "source": [
        "!git clone https://github.com/shubhjhawar/major-project-data"
      ]
    },
    {
      "cell_type": "code",
      "execution_count": null,
      "metadata": {
        "id": "1_duU1JS-onT"
      },
      "outputs": [],
      "source": [
        "import pandas as pd\n",
        "import numpy as np"
      ]
    },
    {
      "cell_type": "code",
      "execution_count": null,
      "metadata": {
        "colab": {
          "base_uri": "https://localhost:8080/",
          "height": 299
        },
        "id": "yeu05KVa_JO6",
        "outputId": "ec855397-d60f-455f-ebb2-ba708720387f"
      },
      "outputs": [
        {
          "data": {
            "text/html": [
              "\n",
              "  <div id=\"df-d1bc8d46-c6ca-4701-8277-3da8598dbb72\">\n",
              "    <div class=\"colab-df-container\">\n",
              "      <div>\n",
              "<style scoped>\n",
              "    .dataframe tbody tr th:only-of-type {\n",
              "        vertical-align: middle;\n",
              "    }\n",
              "\n",
              "    .dataframe tbody tr th {\n",
              "        vertical-align: top;\n",
              "    }\n",
              "\n",
              "    .dataframe thead th {\n",
              "        text-align: right;\n",
              "    }\n",
              "</style>\n",
              "<table border=\"1\" class=\"dataframe\">\n",
              "  <thead>\n",
              "    <tr style=\"text-align: right;\">\n",
              "      <th></th>\n",
              "      <th>CREDIT_SCORE</th>\n",
              "      <th>FIRST_PAYMENT_DATE</th>\n",
              "      <th>FIRST_TIME_HOMEBUYER_FLAG</th>\n",
              "      <th>MATURITY_DATE</th>\n",
              "      <th>METROPOLITAN_STATISTICAL_AREA</th>\n",
              "      <th>MORTGAGE_INSURANCE_PERCENTAGE</th>\n",
              "      <th>NUMBER_OF_UNITS</th>\n",
              "      <th>OCCUPANCY_STATUS</th>\n",
              "      <th>ORIGINAL_COMBINED_LOAN_TO_VALUE</th>\n",
              "      <th>ORIGINAL_DEBT_TO_INCOME_RATIO</th>\n",
              "      <th>...</th>\n",
              "      <th>PROPERTY_TYPE</th>\n",
              "      <th>POSTAL_CODE</th>\n",
              "      <th>LOAN_SEQUENCE_NUMBER</th>\n",
              "      <th>LOAN_PURPOSE</th>\n",
              "      <th>ORIGINAL_LOAN_TERM</th>\n",
              "      <th>NUMBER_OF_BORROWERS</th>\n",
              "      <th>SELLER_NAME</th>\n",
              "      <th>SERVICER_NAME</th>\n",
              "      <th>PREPAID</th>\n",
              "      <th>DELINQUENT</th>\n",
              "    </tr>\n",
              "  </thead>\n",
              "  <tbody>\n",
              "    <tr>\n",
              "      <th>0</th>\n",
              "      <td>669.0</td>\n",
              "      <td>200206</td>\n",
              "      <td>N</td>\n",
              "      <td>202901</td>\n",
              "      <td>NaN</td>\n",
              "      <td>0.0</td>\n",
              "      <td>1.0</td>\n",
              "      <td>O</td>\n",
              "      <td>80.0</td>\n",
              "      <td>33.0</td>\n",
              "      <td>...</td>\n",
              "      <td>SF</td>\n",
              "      <td>26100.0</td>\n",
              "      <td>F199Q1000004</td>\n",
              "      <td>P</td>\n",
              "      <td>320</td>\n",
              "      <td>2.0</td>\n",
              "      <td>Other sellers</td>\n",
              "      <td>Other servicers</td>\n",
              "      <td>True</td>\n",
              "      <td>False</td>\n",
              "    </tr>\n",
              "    <tr>\n",
              "      <th>1</th>\n",
              "      <td>732.0</td>\n",
              "      <td>199904</td>\n",
              "      <td>N</td>\n",
              "      <td>202903</td>\n",
              "      <td>17140.0</td>\n",
              "      <td>0.0</td>\n",
              "      <td>1.0</td>\n",
              "      <td>O</td>\n",
              "      <td>25.0</td>\n",
              "      <td>10.0</td>\n",
              "      <td>...</td>\n",
              "      <td>SF</td>\n",
              "      <td>45200.0</td>\n",
              "      <td>F199Q1000005</td>\n",
              "      <td>N</td>\n",
              "      <td>360</td>\n",
              "      <td>1.0</td>\n",
              "      <td>Other sellers</td>\n",
              "      <td>Other servicers</td>\n",
              "      <td>True</td>\n",
              "      <td>False</td>\n",
              "    </tr>\n",
              "    <tr>\n",
              "      <th>2</th>\n",
              "      <td>679.0</td>\n",
              "      <td>200208</td>\n",
              "      <td>N</td>\n",
              "      <td>202902</td>\n",
              "      <td>15940.0</td>\n",
              "      <td>30.0</td>\n",
              "      <td>1.0</td>\n",
              "      <td>O</td>\n",
              "      <td>91.0</td>\n",
              "      <td>48.0</td>\n",
              "      <td>...</td>\n",
              "      <td>SF</td>\n",
              "      <td>44700.0</td>\n",
              "      <td>F199Q1000007</td>\n",
              "      <td>P</td>\n",
              "      <td>319</td>\n",
              "      <td>1.0</td>\n",
              "      <td>Other sellers</td>\n",
              "      <td>Other servicers</td>\n",
              "      <td>True</td>\n",
              "      <td>False</td>\n",
              "    </tr>\n",
              "    <tr>\n",
              "      <th>3</th>\n",
              "      <td>721.0</td>\n",
              "      <td>200209</td>\n",
              "      <td>N</td>\n",
              "      <td>202902</td>\n",
              "      <td>38060.0</td>\n",
              "      <td>0.0</td>\n",
              "      <td>1.0</td>\n",
              "      <td>O</td>\n",
              "      <td>39.0</td>\n",
              "      <td>13.0</td>\n",
              "      <td>...</td>\n",
              "      <td>SF</td>\n",
              "      <td>85200.0</td>\n",
              "      <td>F199Q1000013</td>\n",
              "      <td>N</td>\n",
              "      <td>318</td>\n",
              "      <td>2.0</td>\n",
              "      <td>Other sellers</td>\n",
              "      <td>Other servicers</td>\n",
              "      <td>True</td>\n",
              "      <td>False</td>\n",
              "    </tr>\n",
              "    <tr>\n",
              "      <th>4</th>\n",
              "      <td>618.0</td>\n",
              "      <td>200210</td>\n",
              "      <td>N</td>\n",
              "      <td>202902</td>\n",
              "      <td>10420.0</td>\n",
              "      <td>25.0</td>\n",
              "      <td>1.0</td>\n",
              "      <td>O</td>\n",
              "      <td>85.0</td>\n",
              "      <td>24.0</td>\n",
              "      <td>...</td>\n",
              "      <td>SF</td>\n",
              "      <td>44200.0</td>\n",
              "      <td>F199Q1000015</td>\n",
              "      <td>N</td>\n",
              "      <td>317</td>\n",
              "      <td>2.0</td>\n",
              "      <td>Other sellers</td>\n",
              "      <td>Other servicers</td>\n",
              "      <td>True</td>\n",
              "      <td>False</td>\n",
              "    </tr>\n",
              "  </tbody>\n",
              "</table>\n",
              "<p>5 rows × 27 columns</p>\n",
              "</div>\n",
              "      <button class=\"colab-df-convert\" onclick=\"convertToInteractive('df-d1bc8d46-c6ca-4701-8277-3da8598dbb72')\"\n",
              "              title=\"Convert this dataframe to an interactive table.\"\n",
              "              style=\"display:none;\">\n",
              "        \n",
              "  <svg xmlns=\"http://www.w3.org/2000/svg\" height=\"24px\"viewBox=\"0 0 24 24\"\n",
              "       width=\"24px\">\n",
              "    <path d=\"M0 0h24v24H0V0z\" fill=\"none\"/>\n",
              "    <path d=\"M18.56 5.44l.94 2.06.94-2.06 2.06-.94-2.06-.94-.94-2.06-.94 2.06-2.06.94zm-11 1L8.5 8.5l.94-2.06 2.06-.94-2.06-.94L8.5 2.5l-.94 2.06-2.06.94zm10 10l.94 2.06.94-2.06 2.06-.94-2.06-.94-.94-2.06-.94 2.06-2.06.94z\"/><path d=\"M17.41 7.96l-1.37-1.37c-.4-.4-.92-.59-1.43-.59-.52 0-1.04.2-1.43.59L10.3 9.45l-7.72 7.72c-.78.78-.78 2.05 0 2.83L4 21.41c.39.39.9.59 1.41.59.51 0 1.02-.2 1.41-.59l7.78-7.78 2.81-2.81c.8-.78.8-2.07 0-2.86zM5.41 20L4 18.59l7.72-7.72 1.47 1.35L5.41 20z\"/>\n",
              "  </svg>\n",
              "      </button>\n",
              "      \n",
              "  <style>\n",
              "    .colab-df-container {\n",
              "      display:flex;\n",
              "      flex-wrap:wrap;\n",
              "      gap: 12px;\n",
              "    }\n",
              "\n",
              "    .colab-df-convert {\n",
              "      background-color: #E8F0FE;\n",
              "      border: none;\n",
              "      border-radius: 50%;\n",
              "      cursor: pointer;\n",
              "      display: none;\n",
              "      fill: #1967D2;\n",
              "      height: 32px;\n",
              "      padding: 0 0 0 0;\n",
              "      width: 32px;\n",
              "    }\n",
              "\n",
              "    .colab-df-convert:hover {\n",
              "      background-color: #E2EBFA;\n",
              "      box-shadow: 0px 1px 2px rgba(60, 64, 67, 0.3), 0px 1px 3px 1px rgba(60, 64, 67, 0.15);\n",
              "      fill: #174EA6;\n",
              "    }\n",
              "\n",
              "    [theme=dark] .colab-df-convert {\n",
              "      background-color: #3B4455;\n",
              "      fill: #D2E3FC;\n",
              "    }\n",
              "\n",
              "    [theme=dark] .colab-df-convert:hover {\n",
              "      background-color: #434B5C;\n",
              "      box-shadow: 0px 1px 3px 1px rgba(0, 0, 0, 0.15);\n",
              "      filter: drop-shadow(0px 1px 2px rgba(0, 0, 0, 0.3));\n",
              "      fill: #FFFFFF;\n",
              "    }\n",
              "  </style>\n",
              "\n",
              "      <script>\n",
              "        const buttonEl =\n",
              "          document.querySelector('#df-d1bc8d46-c6ca-4701-8277-3da8598dbb72 button.colab-df-convert');\n",
              "        buttonEl.style.display =\n",
              "          google.colab.kernel.accessAllowed ? 'block' : 'none';\n",
              "\n",
              "        async function convertToInteractive(key) {\n",
              "          const element = document.querySelector('#df-d1bc8d46-c6ca-4701-8277-3da8598dbb72');\n",
              "          const dataTable =\n",
              "            await google.colab.kernel.invokeFunction('convertToInteractive',\n",
              "                                                     [key], {});\n",
              "          if (!dataTable) return;\n",
              "\n",
              "          const docLinkHtml = 'Like what you see? Visit the ' +\n",
              "            '<a target=\"_blank\" href=https://colab.research.google.com/notebooks/data_table.ipynb>data table notebook</a>'\n",
              "            + ' to learn more about interactive tables.';\n",
              "          element.innerHTML = '';\n",
              "          dataTable['output_type'] = 'display_data';\n",
              "          await google.colab.output.renderOutput(dataTable, element);\n",
              "          const docLink = document.createElement('div');\n",
              "          docLink.innerHTML = docLinkHtml;\n",
              "          element.appendChild(docLink);\n",
              "        }\n",
              "      </script>\n",
              "    </div>\n",
              "  </div>\n",
              "  "
            ],
            "text/plain": [
              "   CREDIT_SCORE  FIRST_PAYMENT_DATE FIRST_TIME_HOMEBUYER_FLAG  MATURITY_DATE  \\\n",
              "0         669.0              200206                         N         202901   \n",
              "1         732.0              199904                         N         202903   \n",
              "2         679.0              200208                         N         202902   \n",
              "3         721.0              200209                         N         202902   \n",
              "4         618.0              200210                         N         202902   \n",
              "\n",
              "   METROPOLITAN_STATISTICAL_AREA  MORTGAGE_INSURANCE_PERCENTAGE  \\\n",
              "0                            NaN                            0.0   \n",
              "1                        17140.0                            0.0   \n",
              "2                        15940.0                           30.0   \n",
              "3                        38060.0                            0.0   \n",
              "4                        10420.0                           25.0   \n",
              "\n",
              "   NUMBER_OF_UNITS OCCUPANCY_STATUS  ORIGINAL_COMBINED_LOAN_TO_VALUE  \\\n",
              "0              1.0                O                             80.0   \n",
              "1              1.0                O                             25.0   \n",
              "2              1.0                O                             91.0   \n",
              "3              1.0                O                             39.0   \n",
              "4              1.0                O                             85.0   \n",
              "\n",
              "   ORIGINAL_DEBT_TO_INCOME_RATIO  ...  PROPERTY_TYPE  POSTAL_CODE  \\\n",
              "0                           33.0  ...             SF      26100.0   \n",
              "1                           10.0  ...             SF      45200.0   \n",
              "2                           48.0  ...             SF      44700.0   \n",
              "3                           13.0  ...             SF      85200.0   \n",
              "4                           24.0  ...             SF      44200.0   \n",
              "\n",
              "   LOAN_SEQUENCE_NUMBER LOAN_PURPOSE ORIGINAL_LOAN_TERM NUMBER_OF_BORROWERS  \\\n",
              "0          F199Q1000004            P                320                 2.0   \n",
              "1          F199Q1000005            N                360                 1.0   \n",
              "2          F199Q1000007            P                319                 1.0   \n",
              "3          F199Q1000013            N                318                 2.0   \n",
              "4          F199Q1000015            N                317                 2.0   \n",
              "\n",
              "     SELLER_NAME    SERVICER_NAME  PREPAID DELINQUENT  \n",
              "0  Other sellers  Other servicers     True      False  \n",
              "1  Other sellers  Other servicers     True      False  \n",
              "2  Other sellers  Other servicers     True      False  \n",
              "3  Other sellers  Other servicers     True      False  \n",
              "4  Other sellers  Other servicers     True      False  \n",
              "\n",
              "[5 rows x 27 columns]"
            ]
          },
          "execution_count": 3,
          "metadata": {},
          "output_type": "execute_result"
        }
      ],
      "source": [
        "df = pd.read_csv('major-project-data/loan_level_500k.csv')\n",
        "df.head()"
      ]
    },
    {
      "cell_type": "code",
      "execution_count": null,
      "metadata": {
        "colab": {
          "base_uri": "https://localhost:8080/"
        },
        "id": "D65N4RA6_WBs",
        "outputId": "3110d580-4afe-4e60-d2e9-9053ff755762"
      },
      "outputs": [
        {
          "data": {
            "text/plain": [
              "(500137, 27)"
            ]
          },
          "execution_count": 4,
          "metadata": {},
          "output_type": "execute_result"
        }
      ],
      "source": [
        "df.shape"
      ]
    },
    {
      "cell_type": "code",
      "execution_count": null,
      "metadata": {
        "colab": {
          "base_uri": "https://localhost:8080/"
        },
        "id": "kI_V8VY8_j-L",
        "outputId": "0c91c385-2401-4413-f801-8940a8f85ceb"
      },
      "outputs": [
        {
          "name": "stdout",
          "output_type": "stream",
          "text": [
            "<class 'pandas.core.frame.DataFrame'>\n",
            "RangeIndex: 500137 entries, 0 to 500136\n",
            "Data columns (total 27 columns):\n",
            " #   Column                            Non-Null Count   Dtype  \n",
            "---  ------                            --------------   -----  \n",
            " 0   CREDIT_SCORE                      497426 non-null  float64\n",
            " 1   FIRST_PAYMENT_DATE                500137 non-null  int64  \n",
            " 2   FIRST_TIME_HOMEBUYER_FLAG         369578 non-null  object \n",
            " 3   MATURITY_DATE                     500137 non-null  int64  \n",
            " 4   METROPOLITAN_STATISTICAL_AREA     429988 non-null  float64\n",
            " 5   MORTGAGE_INSURANCE_PERCENTAGE     449089 non-null  float64\n",
            " 6   NUMBER_OF_UNITS                   500134 non-null  float64\n",
            " 7   OCCUPANCY_STATUS                  500137 non-null  object \n",
            " 8   ORIGINAL_COMBINED_LOAN_TO_VALUE   500124 non-null  float64\n",
            " 9   ORIGINAL_DEBT_TO_INCOME_RATIO     485208 non-null  float64\n",
            " 10  ORIGINAL_UPB                      500137 non-null  int64  \n",
            " 11  ORIGINAL_LOAN_TO_VALUE            500128 non-null  float64\n",
            " 12  ORIGINAL_INTEREST_RATE            500137 non-null  float64\n",
            " 13  CHANNEL                           500137 non-null  object \n",
            " 14  PREPAYMENT_PENALTY_MORTGAGE_FLAG  494959 non-null  object \n",
            " 15  PRODUCT_TYPE                      500137 non-null  object \n",
            " 16  PROPERTY_STATE                    500137 non-null  object \n",
            " 17  PROPERTY_TYPE                     500042 non-null  object \n",
            " 18  POSTAL_CODE                       500106 non-null  float64\n",
            " 19  LOAN_SEQUENCE_NUMBER              500137 non-null  object \n",
            " 20  LOAN_PURPOSE                      500137 non-null  object \n",
            " 21  ORIGINAL_LOAN_TERM                500137 non-null  int64  \n",
            " 22  NUMBER_OF_BORROWERS               499890 non-null  float64\n",
            " 23  SELLER_NAME                       500137 non-null  object \n",
            " 24  SERVICER_NAME                     500137 non-null  object \n",
            " 25  PREPAID                           500137 non-null  bool   \n",
            " 26  DELINQUENT                        500137 non-null  bool   \n",
            "dtypes: bool(2), float64(10), int64(4), object(11)\n",
            "memory usage: 96.3+ MB\n"
          ]
        }
      ],
      "source": [
        "df.info()"
      ]
    },
    {
      "cell_type": "code",
      "execution_count": null,
      "metadata": {
        "colab": {
          "base_uri": "https://localhost:8080/"
        },
        "id": "osFNMrJTvN8K",
        "outputId": "9ee93047-891e-4f34-a4fa-030bcbed176f"
      },
      "outputs": [
        {
          "data": {
            "text/plain": [
              "80.0     112011\n",
              "95.0      55449\n",
              "90.0      43065\n",
              "75.0      26192\n",
              "79.0      14931\n",
              "          ...  \n",
              "159.0         1\n",
              "155.0         1\n",
              "114.0         1\n",
              "142.0         1\n",
              "180.0         1\n",
              "Name: ORIGINAL_COMBINED_LOAN_TO_VALUE, Length: 115, dtype: int64"
            ]
          },
          "execution_count": 6,
          "metadata": {},
          "output_type": "execute_result"
        }
      ],
      "source": [
        "df['ORIGINAL_COMBINED_LOAN_TO_VALUE'].value_counts()"
      ]
    },
    {
      "cell_type": "code",
      "execution_count": null,
      "metadata": {
        "colab": {
          "base_uri": "https://localhost:8080/",
          "height": 364
        },
        "id": "3dhDbzK9_qBn",
        "outputId": "743a5d73-1ff1-4336-f4eb-899d681dea92"
      },
      "outputs": [
        {
          "data": {
            "text/html": [
              "\n",
              "  <div id=\"df-90c12df2-077d-45c1-b7ea-39e85e91bcf3\">\n",
              "    <div class=\"colab-df-container\">\n",
              "      <div>\n",
              "<style scoped>\n",
              "    .dataframe tbody tr th:only-of-type {\n",
              "        vertical-align: middle;\n",
              "    }\n",
              "\n",
              "    .dataframe tbody tr th {\n",
              "        vertical-align: top;\n",
              "    }\n",
              "\n",
              "    .dataframe thead th {\n",
              "        text-align: right;\n",
              "    }\n",
              "</style>\n",
              "<table border=\"1\" class=\"dataframe\">\n",
              "  <thead>\n",
              "    <tr style=\"text-align: right;\">\n",
              "      <th></th>\n",
              "      <th>CREDIT_SCORE</th>\n",
              "      <th>FIRST_PAYMENT_DATE</th>\n",
              "      <th>MATURITY_DATE</th>\n",
              "      <th>METROPOLITAN_STATISTICAL_AREA</th>\n",
              "      <th>MORTGAGE_INSURANCE_PERCENTAGE</th>\n",
              "      <th>NUMBER_OF_UNITS</th>\n",
              "      <th>ORIGINAL_COMBINED_LOAN_TO_VALUE</th>\n",
              "      <th>ORIGINAL_DEBT_TO_INCOME_RATIO</th>\n",
              "      <th>ORIGINAL_UPB</th>\n",
              "      <th>ORIGINAL_LOAN_TO_VALUE</th>\n",
              "      <th>ORIGINAL_INTEREST_RATE</th>\n",
              "      <th>POSTAL_CODE</th>\n",
              "      <th>ORIGINAL_LOAN_TERM</th>\n",
              "      <th>NUMBER_OF_BORROWERS</th>\n",
              "    </tr>\n",
              "  </thead>\n",
              "  <tbody>\n",
              "    <tr>\n",
              "      <th>count</th>\n",
              "      <td>497426.000000</td>\n",
              "      <td>500137.000000</td>\n",
              "      <td>500137.000000</td>\n",
              "      <td>429988.000000</td>\n",
              "      <td>449089.000000</td>\n",
              "      <td>500134.000000</td>\n",
              "      <td>500124.000000</td>\n",
              "      <td>485208.000000</td>\n",
              "      <td>500137.000000</td>\n",
              "      <td>500128.000000</td>\n",
              "      <td>500137.000000</td>\n",
              "      <td>500106.000000</td>\n",
              "      <td>500137.000000</td>\n",
              "      <td>499890.000000</td>\n",
              "    </tr>\n",
              "    <tr>\n",
              "      <th>mean</th>\n",
              "      <td>712.536212</td>\n",
              "      <td>200025.430952</td>\n",
              "      <td>203023.195872</td>\n",
              "      <td>30777.824739</td>\n",
              "      <td>7.744532</td>\n",
              "      <td>1.028890</td>\n",
              "      <td>76.053571</td>\n",
              "      <td>32.917541</td>\n",
              "      <td>136493.484785</td>\n",
              "      <td>75.710714</td>\n",
              "      <td>7.182687</td>\n",
              "      <td>55490.857138</td>\n",
              "      <td>359.855470</td>\n",
              "      <td>1.630295</td>\n",
              "    </tr>\n",
              "    <tr>\n",
              "      <th>std</th>\n",
              "      <td>54.791262</td>\n",
              "      <td>109.815541</td>\n",
              "      <td>110.384189</td>\n",
              "      <td>11333.401144</td>\n",
              "      <td>12.046546</td>\n",
              "      <td>0.218391</td>\n",
              "      <td>15.139986</td>\n",
              "      <td>11.111800</td>\n",
              "      <td>60968.743066</td>\n",
              "      <td>14.937717</td>\n",
              "      <td>0.579941</td>\n",
              "      <td>29505.382259</td>\n",
              "      <td>1.908251</td>\n",
              "      <td>0.482725</td>\n",
              "    </tr>\n",
              "    <tr>\n",
              "      <th>min</th>\n",
              "      <td>300.000000</td>\n",
              "      <td>199901.000000</td>\n",
              "      <td>202402.000000</td>\n",
              "      <td>10180.000000</td>\n",
              "      <td>0.000000</td>\n",
              "      <td>1.000000</td>\n",
              "      <td>6.000000</td>\n",
              "      <td>1.000000</td>\n",
              "      <td>8000.000000</td>\n",
              "      <td>6.000000</td>\n",
              "      <td>4.625000</td>\n",
              "      <td>600.000000</td>\n",
              "      <td>301.000000</td>\n",
              "      <td>1.000000</td>\n",
              "    </tr>\n",
              "    <tr>\n",
              "      <th>25%</th>\n",
              "      <td>676.000000</td>\n",
              "      <td>199904.000000</td>\n",
              "      <td>202903.000000</td>\n",
              "      <td>19740.000000</td>\n",
              "      <td>0.000000</td>\n",
              "      <td>1.000000</td>\n",
              "      <td>70.000000</td>\n",
              "      <td>25.000000</td>\n",
              "      <td>89000.000000</td>\n",
              "      <td>70.000000</td>\n",
              "      <td>6.875000</td>\n",
              "      <td>30500.000000</td>\n",
              "      <td>360.000000</td>\n",
              "      <td>1.000000</td>\n",
              "    </tr>\n",
              "    <tr>\n",
              "      <th>50%</th>\n",
              "      <td>719.000000</td>\n",
              "      <td>200005.000000</td>\n",
              "      <td>203004.000000</td>\n",
              "      <td>33340.000000</td>\n",
              "      <td>0.000000</td>\n",
              "      <td>1.000000</td>\n",
              "      <td>80.000000</td>\n",
              "      <td>33.000000</td>\n",
              "      <td>126000.000000</td>\n",
              "      <td>80.000000</td>\n",
              "      <td>7.000000</td>\n",
              "      <td>54200.000000</td>\n",
              "      <td>360.000000</td>\n",
              "      <td>2.000000</td>\n",
              "    </tr>\n",
              "    <tr>\n",
              "      <th>75%</th>\n",
              "      <td>756.000000</td>\n",
              "      <td>200105.000000</td>\n",
              "      <td>203104.000000</td>\n",
              "      <td>40420.000000</td>\n",
              "      <td>18.000000</td>\n",
              "      <td>1.000000</td>\n",
              "      <td>88.000000</td>\n",
              "      <td>41.000000</td>\n",
              "      <td>176000.000000</td>\n",
              "      <td>85.000000</td>\n",
              "      <td>7.375000</td>\n",
              "      <td>85000.000000</td>\n",
              "      <td>360.000000</td>\n",
              "      <td>2.000000</td>\n",
              "    </tr>\n",
              "    <tr>\n",
              "      <th>max</th>\n",
              "      <td>839.000000</td>\n",
              "      <td>201103.000000</td>\n",
              "      <td>204101.000000</td>\n",
              "      <td>49740.000000</td>\n",
              "      <td>55.000000</td>\n",
              "      <td>4.000000</td>\n",
              "      <td>180.000000</td>\n",
              "      <td>65.000000</td>\n",
              "      <td>578000.000000</td>\n",
              "      <td>100.000000</td>\n",
              "      <td>11.500000</td>\n",
              "      <td>99900.000000</td>\n",
              "      <td>362.000000</td>\n",
              "      <td>2.000000</td>\n",
              "    </tr>\n",
              "  </tbody>\n",
              "</table>\n",
              "</div>\n",
              "      <button class=\"colab-df-convert\" onclick=\"convertToInteractive('df-90c12df2-077d-45c1-b7ea-39e85e91bcf3')\"\n",
              "              title=\"Convert this dataframe to an interactive table.\"\n",
              "              style=\"display:none;\">\n",
              "        \n",
              "  <svg xmlns=\"http://www.w3.org/2000/svg\" height=\"24px\"viewBox=\"0 0 24 24\"\n",
              "       width=\"24px\">\n",
              "    <path d=\"M0 0h24v24H0V0z\" fill=\"none\"/>\n",
              "    <path d=\"M18.56 5.44l.94 2.06.94-2.06 2.06-.94-2.06-.94-.94-2.06-.94 2.06-2.06.94zm-11 1L8.5 8.5l.94-2.06 2.06-.94-2.06-.94L8.5 2.5l-.94 2.06-2.06.94zm10 10l.94 2.06.94-2.06 2.06-.94-2.06-.94-.94-2.06-.94 2.06-2.06.94z\"/><path d=\"M17.41 7.96l-1.37-1.37c-.4-.4-.92-.59-1.43-.59-.52 0-1.04.2-1.43.59L10.3 9.45l-7.72 7.72c-.78.78-.78 2.05 0 2.83L4 21.41c.39.39.9.59 1.41.59.51 0 1.02-.2 1.41-.59l7.78-7.78 2.81-2.81c.8-.78.8-2.07 0-2.86zM5.41 20L4 18.59l7.72-7.72 1.47 1.35L5.41 20z\"/>\n",
              "  </svg>\n",
              "      </button>\n",
              "      \n",
              "  <style>\n",
              "    .colab-df-container {\n",
              "      display:flex;\n",
              "      flex-wrap:wrap;\n",
              "      gap: 12px;\n",
              "    }\n",
              "\n",
              "    .colab-df-convert {\n",
              "      background-color: #E8F0FE;\n",
              "      border: none;\n",
              "      border-radius: 50%;\n",
              "      cursor: pointer;\n",
              "      display: none;\n",
              "      fill: #1967D2;\n",
              "      height: 32px;\n",
              "      padding: 0 0 0 0;\n",
              "      width: 32px;\n",
              "    }\n",
              "\n",
              "    .colab-df-convert:hover {\n",
              "      background-color: #E2EBFA;\n",
              "      box-shadow: 0px 1px 2px rgba(60, 64, 67, 0.3), 0px 1px 3px 1px rgba(60, 64, 67, 0.15);\n",
              "      fill: #174EA6;\n",
              "    }\n",
              "\n",
              "    [theme=dark] .colab-df-convert {\n",
              "      background-color: #3B4455;\n",
              "      fill: #D2E3FC;\n",
              "    }\n",
              "\n",
              "    [theme=dark] .colab-df-convert:hover {\n",
              "      background-color: #434B5C;\n",
              "      box-shadow: 0px 1px 3px 1px rgba(0, 0, 0, 0.15);\n",
              "      filter: drop-shadow(0px 1px 2px rgba(0, 0, 0, 0.3));\n",
              "      fill: #FFFFFF;\n",
              "    }\n",
              "  </style>\n",
              "\n",
              "      <script>\n",
              "        const buttonEl =\n",
              "          document.querySelector('#df-90c12df2-077d-45c1-b7ea-39e85e91bcf3 button.colab-df-convert');\n",
              "        buttonEl.style.display =\n",
              "          google.colab.kernel.accessAllowed ? 'block' : 'none';\n",
              "\n",
              "        async function convertToInteractive(key) {\n",
              "          const element = document.querySelector('#df-90c12df2-077d-45c1-b7ea-39e85e91bcf3');\n",
              "          const dataTable =\n",
              "            await google.colab.kernel.invokeFunction('convertToInteractive',\n",
              "                                                     [key], {});\n",
              "          if (!dataTable) return;\n",
              "\n",
              "          const docLinkHtml = 'Like what you see? Visit the ' +\n",
              "            '<a target=\"_blank\" href=https://colab.research.google.com/notebooks/data_table.ipynb>data table notebook</a>'\n",
              "            + ' to learn more about interactive tables.';\n",
              "          element.innerHTML = '';\n",
              "          dataTable['output_type'] = 'display_data';\n",
              "          await google.colab.output.renderOutput(dataTable, element);\n",
              "          const docLink = document.createElement('div');\n",
              "          docLink.innerHTML = docLinkHtml;\n",
              "          element.appendChild(docLink);\n",
              "        }\n",
              "      </script>\n",
              "    </div>\n",
              "  </div>\n",
              "  "
            ],
            "text/plain": [
              "        CREDIT_SCORE  FIRST_PAYMENT_DATE  MATURITY_DATE  \\\n",
              "count  497426.000000       500137.000000  500137.000000   \n",
              "mean      712.536212       200025.430952  203023.195872   \n",
              "std        54.791262          109.815541     110.384189   \n",
              "min       300.000000       199901.000000  202402.000000   \n",
              "25%       676.000000       199904.000000  202903.000000   \n",
              "50%       719.000000       200005.000000  203004.000000   \n",
              "75%       756.000000       200105.000000  203104.000000   \n",
              "max       839.000000       201103.000000  204101.000000   \n",
              "\n",
              "       METROPOLITAN_STATISTICAL_AREA  MORTGAGE_INSURANCE_PERCENTAGE  \\\n",
              "count                  429988.000000                  449089.000000   \n",
              "mean                    30777.824739                       7.744532   \n",
              "std                     11333.401144                      12.046546   \n",
              "min                     10180.000000                       0.000000   \n",
              "25%                     19740.000000                       0.000000   \n",
              "50%                     33340.000000                       0.000000   \n",
              "75%                     40420.000000                      18.000000   \n",
              "max                     49740.000000                      55.000000   \n",
              "\n",
              "       NUMBER_OF_UNITS  ORIGINAL_COMBINED_LOAN_TO_VALUE  \\\n",
              "count    500134.000000                    500124.000000   \n",
              "mean          1.028890                        76.053571   \n",
              "std           0.218391                        15.139986   \n",
              "min           1.000000                         6.000000   \n",
              "25%           1.000000                        70.000000   \n",
              "50%           1.000000                        80.000000   \n",
              "75%           1.000000                        88.000000   \n",
              "max           4.000000                       180.000000   \n",
              "\n",
              "       ORIGINAL_DEBT_TO_INCOME_RATIO   ORIGINAL_UPB  ORIGINAL_LOAN_TO_VALUE  \\\n",
              "count                  485208.000000  500137.000000           500128.000000   \n",
              "mean                       32.917541  136493.484785               75.710714   \n",
              "std                        11.111800   60968.743066               14.937717   \n",
              "min                         1.000000    8000.000000                6.000000   \n",
              "25%                        25.000000   89000.000000               70.000000   \n",
              "50%                        33.000000  126000.000000               80.000000   \n",
              "75%                        41.000000  176000.000000               85.000000   \n",
              "max                        65.000000  578000.000000              100.000000   \n",
              "\n",
              "       ORIGINAL_INTEREST_RATE    POSTAL_CODE  ORIGINAL_LOAN_TERM  \\\n",
              "count           500137.000000  500106.000000       500137.000000   \n",
              "mean                 7.182687   55490.857138          359.855470   \n",
              "std                  0.579941   29505.382259            1.908251   \n",
              "min                  4.625000     600.000000          301.000000   \n",
              "25%                  6.875000   30500.000000          360.000000   \n",
              "50%                  7.000000   54200.000000          360.000000   \n",
              "75%                  7.375000   85000.000000          360.000000   \n",
              "max                 11.500000   99900.000000          362.000000   \n",
              "\n",
              "       NUMBER_OF_BORROWERS  \n",
              "count        499890.000000  \n",
              "mean              1.630295  \n",
              "std               0.482725  \n",
              "min               1.000000  \n",
              "25%               1.000000  \n",
              "50%               2.000000  \n",
              "75%               2.000000  \n",
              "max               2.000000  "
            ]
          },
          "execution_count": 7,
          "metadata": {},
          "output_type": "execute_result"
        }
      ],
      "source": [
        "df.describe()"
      ]
    },
    {
      "cell_type": "code",
      "execution_count": null,
      "metadata": {
        "id": "R7iZLL02YmKu"
      },
      "outputs": [],
      "source": [
        "import matplotlib.pyplot as plt\n",
        "import seaborn as sns\n",
        "%matplotlib inline"
      ]
    },
    {
      "cell_type": "code",
      "execution_count": null,
      "metadata": {
        "colab": {
          "base_uri": "https://localhost:8080/",
          "height": 559
        },
        "id": "6jgN6GapYmNT",
        "outputId": "9093cff6-354e-4350-9217-d8f889e3485b"
      },
      "outputs": [
        {
          "data": {
            "image/png": "[encoded data removed]",
            "text/plain": [
              "<Figure size 432x288 with 1 Axes>"
            ]
          },
          "metadata": {},
          "output_type": "display_data"
        },
        {
          "name": "stdout",
          "output_type": "stream",
          "text": [
            "\n"
          ]
        },
        {
          "data": {
            "image/png": "[encoded data removed]",
            "text/plain": [
              "<Figure size 432x288 with 1 Axes>"
            ]
          },
          "metadata": {},
          "output_type": "display_data"
        }
      ],
      "source": [
        "sns.set_style('whitegrid')\n",
        "sns.countplot(x=df[\"FIRST_TIME_HOMEBUYER_FLAG\"])\n",
        "plt.show()\n",
        "print()\n",
        "sns.countplot(x=df['PREPAID'], hue=df['FIRST_TIME_HOMEBUYER_FLAG'], palette='rainbow')\n",
        "plt.show()"
      ]
    },
    {
      "cell_type": "code",
      "execution_count": null,
      "metadata": {
        "colab": {
          "base_uri": "https://localhost:8080/",
          "height": 559
        },
        "id": "HCYSjr6zZaeT",
        "outputId": "e72f93a5-1c82-4736-b779-484b92c4c575"
      },
      "outputs": [
        {
          "data": {
            "image/png": "[encoded data removed]",
            "text/plain": [
              "<Figure size 432x288 with 1 Axes>"
            ]
          },
          "metadata": {},
          "output_type": "display_data"
        },
        {
          "name": "stdout",
          "output_type": "stream",
          "text": [
            "\n"
          ]
        },
        {
          "data": {
            "image/png": "[encoded data removed]",
            "text/plain": [
              "<Figure size 432x288 with 1 Axes>"
            ]
          },
          "metadata": {},
          "output_type": "display_data"
        }
      ],
      "source": [
        "sns.set_style('whitegrid')\n",
        "sns.countplot(x=df[\"OCCUPANCY_STATUS\"])\n",
        "plt.show()\n",
        "print()\n",
        "sns.countplot(x=df['PREPAID'], hue=df['OCCUPANCY_STATUS'], palette='rainbow')\n",
        "plt.show()"
      ]
    },
    {
      "cell_type": "code",
      "execution_count": null,
      "metadata": {
        "colab": {
          "base_uri": "https://localhost:8080/",
          "height": 559
        },
        "id": "8Pqq3n-bwDRy",
        "outputId": "c7547a36-76a1-465a-a2c8-13dd87e851cf"
      },
      "outputs": [
        {
          "data": {
            "image/png": "[encoded data removed]",
            "text/plain": [
              "<Figure size 432x288 with 1 Axes>"
            ]
          },
          "metadata": {},
          "output_type": "display_data"
        },
        {
          "name": "stdout",
          "output_type": "stream",
          "text": [
            "\n"
          ]
        },
        {
          "data": {
            "image/png": "[encoded data removed]",
            "text/plain": [
              "<Figure size 432x288 with 1 Axes>"
            ]
          },
          "metadata": {},
          "output_type": "display_data"
        }
      ],
      "source": [
        "sns.set_style('whitegrid')\n",
        "sns.countplot(x=df[\"NUMBER_OF_UNITS\"])\n",
        "plt.show()\n",
        "print()\n",
        "sns.countplot(x=df['PREPAID'], hue=df['NUMBER_OF_UNITS'], palette='rainbow')\n",
        "plt.show()"
      ]
    },
    {
      "cell_type": "code",
      "execution_count": null,
      "metadata": {
        "colab": {
          "base_uri": "https://localhost:8080/",
          "height": 559
        },
        "id": "7CI9S4Z3YmSh",
        "outputId": "34df3298-9dff-4b97-f6e4-2b5f32334a00"
      },
      "outputs": [
        {
          "data": {
            "image/png": "[encoded data removed]",
            "text/plain": [
              "<Figure size 432x288 with 1 Axes>"
            ]
          },
          "metadata": {},
          "output_type": "display_data"
        },
        {
          "name": "stdout",
          "output_type": "stream",
          "text": [
            "\n"
          ]
        },
        {
          "data": {
            "image/png": "[encoded data removed]",
            "text/plain": [
              "<Figure size 432x288 with 1 Axes>"
            ]
          },
          "metadata": {},
          "output_type": "display_data"
        }
      ],
      "source": [
        "sns.set_style('whitegrid')\n",
        "sns.countplot(x=df[\"CHANNEL\"])\n",
        "plt.show()\n",
        "print()\n",
        "sns.countplot(x=df['PREPAID'], hue=df['CHANNEL'], palette='rainbow')\n",
        "plt.show()"
      ]
    },
    {
      "cell_type": "code",
      "execution_count": null,
      "metadata": {
        "colab": {
          "base_uri": "https://localhost:8080/",
          "height": 831
        },
        "id": "zpc5Zx1rYmU5",
        "outputId": "6c4af4af-c0b9-4572-a27b-3cb07da1d0cf"
      },
      "outputs": [
        {
          "data": {
            "image/png": "[encoded data removed]",
            "text/plain": [
              "<Figure size 432x288 with 1 Axes>"
            ]
          },
          "metadata": {},
          "output_type": "display_data"
        },
        {
          "name": "stdout",
          "output_type": "stream",
          "text": [
            "\n"
          ]
        },
        {
          "data": {
            "image/png": "[encoded data removed]",
            "text/plain": [
              "<Figure size 1152x648 with 1 Axes>"
            ]
          },
          "metadata": {},
          "output_type": "display_data"
        }
      ],
      "source": [
        "sns.set_style('whitegrid')\n",
        "plt.figure(figsize=(6,4))\n",
        "sns.countplot(x=df[\"PREPAYMENT_PENALTY_MORTGAGE_FLAG\"])\n",
        "plt.show()\n",
        "print()\n",
        "plt.figure(figsize=(16,9))\n",
        "sns.countplot(x=df['PREPAID'], hue=df['PREPAYMENT_PENALTY_MORTGAGE_FLAG'], palette='RdBu_r')\n",
        "plt.show()"
      ]
    },
    {
      "cell_type": "code",
      "execution_count": null,
      "metadata": {
        "colab": {
          "base_uri": "https://localhost:8080/",
          "height": 561
        },
        "id": "J8N_2mITYmXd",
        "outputId": "3f938cc5-7693-45ef-e7b0-a5b4b2f40c1e"
      },
      "outputs": [
        {
          "data": {
            "image/png": "[encoded data removed]",
            "text/plain": [
              "<Figure size 432x288 with 1 Axes>"
            ]
          },
          "metadata": {},
          "output_type": "display_data"
        },
        {
          "name": "stdout",
          "output_type": "stream",
          "text": [
            "\n"
          ]
        },
        {
          "data": {
            "image/png": "[encoded data removed]",
            "text/plain": [
              "<Figure size 432x288 with 1 Axes>"
            ]
          },
          "metadata": {},
          "output_type": "display_data"
        }
      ],
      "source": [
        "sns.set_style('whitegrid')\n",
        "sns.countplot(x=df[\"PRODUCT_TYPE\"])\n",
        "plt.show()\n",
        "print()\n",
        "sns.countplot(x=df['PREPAID'], hue=df['PRODUCT_TYPE'], palette='rainbow')\n",
        "plt.show()\n",
        "\n",
        "# only 1 product type"
      ]
    },
    {
      "cell_type": "code",
      "execution_count": null,
      "metadata": {
        "colab": {
          "base_uri": "https://localhost:8080/",
          "height": 559
        },
        "id": "LVyUS5aicL0w",
        "outputId": "0d1f0720-7560-4292-b00c-4592e9e2ddc9"
      },
      "outputs": [
        {
          "data": {
            "image/png": "[encoded data removed]",
            "text/plain": [
              "<Figure size 432x288 with 1 Axes>"
            ]
          },
          "metadata": {},
          "output_type": "display_data"
        },
        {
          "name": "stdout",
          "output_type": "stream",
          "text": [
            "\n"
          ]
        },
        {
          "data": {
            "image/png": "[encoded data removed]",
            "text/plain": [
              "<Figure size 432x288 with 1 Axes>"
            ]
          },
          "metadata": {},
          "output_type": "display_data"
        }
      ],
      "source": [
        "sns.set_style('whitegrid')\n",
        "sns.countplot(x=df[\"PROPERTY_TYPE\"])\n",
        "plt.show()\n",
        "print()\n",
        "sns.countplot(x=df['PREPAID'], hue=df['PROPERTY_TYPE'], palette='rainbow')\n",
        "plt.show()"
      ]
    },
    {
      "cell_type": "code",
      "execution_count": null,
      "metadata": {
        "colab": {
          "base_uri": "https://localhost:8080/",
          "height": 559
        },
        "id": "g9f_9Eflcfr2",
        "outputId": "fa36376d-2c29-47e8-df1b-39f28e90fb2d"
      },
      "outputs": [
        {
          "data": {
            "image/png": "[encoded data removed]",
            "text/plain": [
              "<Figure size 432x288 with 1 Axes>"
            ]
          },
          "metadata": {},
          "output_type": "display_data"
        },
        {
          "name": "stdout",
          "output_type": "stream",
          "text": [
            "\n"
          ]
        },
        {
          "data": {
            "image/png": "[encoded data removed]",
            "text/plain": [
              "<Figure size 432x288 with 1 Axes>"
            ]
          },
          "metadata": {},
          "output_type": "display_data"
        }
      ],
      "source": [
        "sns.set_style('whitegrid')\n",
        "sns.countplot(x=df[\"LOAN_PURPOSE\"])\n",
        "plt.show()\n",
        "print()\n",
        "sns.countplot(x=df['PREPAID'], hue=df['LOAN_PURPOSE'], palette='rainbow')\n",
        "plt.show()"
      ]
    },
    {
      "cell_type": "code",
      "execution_count": null,
      "metadata": {
        "colab": {
          "base_uri": "https://localhost:8080/",
          "height": 551
        },
        "id": "9IRpCZIFYmZ1",
        "outputId": "8216ce8f-37fe-441b-ed52-513003356a26"
      },
      "outputs": [
        {
          "data": {
            "image/png": "[encoded data removed]",
            "text/plain": [
              "<Figure size 1152x648 with 1 Axes>"
            ]
          },
          "metadata": {},
          "output_type": "display_data"
        }
      ],
      "source": [
        "plt.figure(figsize=(16,9))\n",
        "ax =df[\"CREDIT_SCORE\"].hist(bins=50, color='black', alpha=0.4)\n",
        "ax.set(xlabel=\"Credit Score\", ylabel = \"Loan Amount\")\n",
        "plt.show()\n",
        "# check the y axis once"
      ]
    },
    {
      "cell_type": "code",
      "execution_count": null,
      "metadata": {
        "colab": {
          "base_uri": "https://localhost:8080/",
          "height": 551
        },
        "id": "kKiqL7JluJ60",
        "outputId": "6e0275e7-f478-4ae0-d95e-7399beb9b62b"
      },
      "outputs": [
        {
          "data": {
            "image/png": "[encoded data removed]",
            "text/plain": [
              "<Figure size 1152x648 with 1 Axes>"
            ]
          },
          "metadata": {},
          "output_type": "display_data"
        }
      ],
      "source": [
        "plt.figure(figsize=(16,9))\n",
        "ax =df[\"MORTGAGE_INSURANCE_PERCENTAGE\"].hist(bins=10, color='green', alpha=0.4)\n",
        "ax.set(xlabel=\"Credit Score\", ylabel = \"Loan Amount\")\n",
        "plt.show()"
      ]
    },
    {
      "cell_type": "code",
      "execution_count": null,
      "metadata": {
        "colab": {
          "base_uri": "https://localhost:8080/",
          "height": 552
        },
        "id": "vMcjgR8PuJvy",
        "outputId": "68884190-553a-4118-93e7-f3e683f73c4c"
      },
      "outputs": [
        {
          "data": {
            "image/png": "[encoded data removed]",
            "text/plain": [
              "<Figure size 1152x648 with 1 Axes>"
            ]
          },
          "metadata": {},
          "output_type": "display_data"
        }
      ],
      "source": [
        "# sns.set_style('whitegrid')\n",
        "# sns.countplot(x=df['PREPAID'], hue=df['ORIGINAL_INTEREST_RATE'], palette='rainbow')\n",
        "# plt.show()\n",
        "\n",
        "plt.figure(figsize=(16,9))\n",
        "ax =df[\"ORIGINAL_INTEREST_RATE\"].hist(bins=10, color='green', alpha=0.4)\n",
        "ax.set(xlabel=\"ORIGINAL_INTEREST_RATE\", ylabel = \"Density\")\n",
        "plt.show()"
      ]
    },
    {
      "cell_type": "code",
      "execution_count": null,
      "metadata": {
        "colab": {
          "base_uri": "https://localhost:8080/",
          "height": 641
        },
        "id": "8CkZdG6XYmeu",
        "outputId": "dfaca886-dbd4-4a85-90e7-1ff69330a0ac"
      },
      "outputs": [
        {
          "name": "stderr",
          "output_type": "stream",
          "text": [
            "/usr/local/lib/python3.7/dist-packages/seaborn/distributions.py:2619: FutureWarning: `distplot` is a deprecated function and will be removed in a future version. Please adapt your code to use either `displot` (a figure-level function with similar flexibility) or `kdeplot` (an axes-level function for kernel density plots).\n",
            "  warnings.warn(msg, FutureWarning)\n",
            "/usr/local/lib/python3.7/dist-packages/seaborn/distributions.py:2103: FutureWarning: The `axis` variable is no longer used and will be removed. Instead, assign variables directly to `x` or `y`.\n",
            "  warnings.warn(msg, FutureWarning)\n"
          ]
        },
        {
          "data": {
            "image/png": "[encoded data removed]",
            "text/plain": [
              "<Figure size 1152x648 with 1 Axes>"
            ]
          },
          "metadata": {},
          "output_type": "display_data"
        }
      ],
      "source": [
        "# probabilty distribution graph\n",
        "plt.figure(figsize=(16,9))\n",
        "sns.distplot(df['ORIGINAL_INTEREST_RATE'], rug=True, hist=False)\n",
        "plt.show()\n",
        "# this one needs more work"
      ]
    },
    {
      "cell_type": "code",
      "execution_count": null,
      "metadata": {
        "id": "UVK1jWFsYmhH"
      },
      "outputs": [],
      "source": []
    },
    {
      "cell_type": "code",
      "execution_count": null,
      "metadata": {
        "id": "EGkz0-REYmjp"
      },
      "outputs": [],
      "source": []
    },
    {
      "cell_type": "code",
      "execution_count": null,
      "metadata": {
        "id": "TMZds1CmYmnI"
      },
      "outputs": [],
      "source": []
    },
    {
      "cell_type": "code",
      "execution_count": null,
      "metadata": {
        "colab": {
          "base_uri": "https://localhost:8080/"
        },
        "id": "A4C-dr0t_8M6",
        "outputId": "807b3dcb-afff-498e-a2cf-07ce4ab4e8e1"
      },
      "outputs": [
        {
          "name": "stdout",
          "output_type": "stream",
          "text": [
            "CREDIT_SCORE                          2711\n",
            "FIRST_PAYMENT_DATE                       0\n",
            "FIRST_TIME_HOMEBUYER_FLAG           130559\n",
            "MATURITY_DATE                            0\n",
            "METROPOLITAN_STATISTICAL_AREA        70149\n",
            "MORTGAGE_INSURANCE_PERCENTAGE        51048\n",
            "NUMBER_OF_UNITS                          3\n",
            "OCCUPANCY_STATUS                         0\n",
            "ORIGINAL_COMBINED_LOAN_TO_VALUE         13\n",
            "ORIGINAL_DEBT_TO_INCOME_RATIO        14929\n",
            "ORIGINAL_UPB                             0\n",
            "ORIGINAL_LOAN_TO_VALUE                   9\n",
            "ORIGINAL_INTEREST_RATE                   0\n",
            "CHANNEL                                  0\n",
            "PREPAYMENT_PENALTY_MORTGAGE_FLAG      5178\n",
            "PRODUCT_TYPE                             0\n",
            "PROPERTY_STATE                           0\n",
            "PROPERTY_TYPE                           95\n",
            "POSTAL_CODE                             31\n",
            "LOAN_SEQUENCE_NUMBER                     0\n",
            "LOAN_PURPOSE                             0\n",
            "ORIGINAL_LOAN_TERM                       0\n",
            "NUMBER_OF_BORROWERS                    247\n",
            "SELLER_NAME                              0\n",
            "SERVICER_NAME                            0\n",
            "PREPAID                                  0\n",
            "DELINQUENT                               0\n",
            "dtype: int64\n"
          ]
        }
      ],
      "source": [
        "missing = df.isnull().sum()\n",
        "print(missing)"
      ]
    },
    {
      "cell_type": "code",
      "execution_count": null,
      "metadata": {
        "id": "IEFCr5O7xvD3"
      },
      "outputs": [],
      "source": [
        "df.drop(['SELLER_NAME','SERVICER_NAME','FIRST_PAYMENT_DATE','MATURITY_DATE','METROPOLITAN_STATISTICAL_AREA', 'CHANNEL','PROPERTY_STATE','POSTAL_CODE','LOAN_SEQUENCE_NUMBER','DELINQUENT'], axis=1, inplace=True)"
      ]
    },
    {
      "cell_type": "code",
      "execution_count": null,
      "metadata": {
        "colab": {
          "base_uri": "https://localhost:8080/"
        },
        "id": "2YypU6KNtslO",
        "outputId": "970b8b76-0be3-422f-b222-d2735e7bf301"
      },
      "outputs": [
        {
          "data": {
            "text/plain": [
              "(500137, 17)"
            ]
          },
          "execution_count": 23,
          "metadata": {},
          "output_type": "execute_result"
        }
      ],
      "source": [
        "df.shape"
      ]
    },
    {
      "cell_type": "code",
      "execution_count": null,
      "metadata": {
        "colab": {
          "base_uri": "https://localhost:8080/"
        },
        "id": "Mqng4WQ4Z9eT",
        "outputId": "1d62b0bf-2393-4576-c2dc-f3f39157c149"
      },
      "outputs": [
        {
          "data": {
            "text/plain": [
              "<bound method DataFrame.info of         CREDIT_SCORE FIRST_TIME_HOMEBUYER_FLAG  MORTGAGE_INSURANCE_PERCENTAGE  \\\n",
              "0              669.0                         N                            0.0   \n",
              "1              732.0                         N                            0.0   \n",
              "2              679.0                         N                           30.0   \n",
              "3              721.0                         N                            0.0   \n",
              "4              618.0                         N                           25.0   \n",
              "...              ...                       ...                            ...   \n",
              "500132         774.0                       NaN                            0.0   \n",
              "500133         689.0                       NaN                            0.0   \n",
              "500134         798.0                       NaN                            0.0   \n",
              "500135         791.0                       NaN                            0.0   \n",
              "500136         773.0                       NaN                            0.0   \n",
              "\n",
              "        NUMBER_OF_UNITS OCCUPANCY_STATUS  ORIGINAL_COMBINED_LOAN_TO_VALUE  \\\n",
              "0                   1.0                O                             80.0   \n",
              "1                   1.0                O                             25.0   \n",
              "2                   1.0                O                             91.0   \n",
              "3                   1.0                O                             39.0   \n",
              "4                   1.0                O                             85.0   \n",
              "...                 ...              ...                              ...   \n",
              "500132              1.0                O                             61.0   \n",
              "500133              1.0                O                             70.0   \n",
              "500134              1.0                O                             56.0   \n",
              "500135              1.0                O                             26.0   \n",
              "500136              1.0                O                             33.0   \n",
              "\n",
              "        ORIGINAL_DEBT_TO_INCOME_RATIO  ORIGINAL_UPB  ORIGINAL_LOAN_TO_VALUE  \\\n",
              "0                                33.0        162000                    80.0   \n",
              "1                                10.0         53000                    25.0   \n",
              "2                                48.0        133000                    91.0   \n",
              "3                                13.0        174000                    39.0   \n",
              "4                                24.0        122000                    85.0   \n",
              "...                               ...           ...                     ...   \n",
              "500132                           38.0         76000                    61.0   \n",
              "500133                           39.0         70000                    70.0   \n",
              "500134                           41.0         65000                    56.0   \n",
              "500135                           18.0         51000                    26.0   \n",
              "500136                           48.0         82000                    33.0   \n",
              "\n",
              "        ORIGINAL_INTEREST_RATE PREPAYMENT_PENALTY_MORTGAGE_FLAG PRODUCT_TYPE  \\\n",
              "0                        7.120                                N          FRM   \n",
              "1                        6.500                                N          FRM   \n",
              "2                        6.750                                N          FRM   \n",
              "3                        6.625                                N          FRM   \n",
              "4                        6.375                                N          FRM   \n",
              "...                        ...                              ...          ...   \n",
              "500132                   6.625                                N          FRM   \n",
              "500133                   6.625                                N          FRM   \n",
              "500134                   6.625                                N          FRM   \n",
              "500135                   6.625                                N          FRM   \n",
              "500136                   6.625                                N          FRM   \n",
              "\n",
              "       PROPERTY_TYPE LOAN_PURPOSE  ORIGINAL_LOAN_TERM  NUMBER_OF_BORROWERS  \\\n",
              "0                 SF            P                 320                  2.0   \n",
              "1                 SF            N                 360                  1.0   \n",
              "2                 SF            P                 319                  1.0   \n",
              "3                 SF            N                 318                  2.0   \n",
              "4                 SF            N                 317                  2.0   \n",
              "...              ...          ...                 ...                  ...   \n",
              "500132            SF            C                 360                  1.0   \n",
              "500133            SF            N                 360                  1.0   \n",
              "500134            SF            C                 360                  1.0   \n",
              "500135            SF            N                 360                  1.0   \n",
              "500136            SF            N                 360                  1.0   \n",
              "\n",
              "        PREPAID  \n",
              "0          True  \n",
              "1          True  \n",
              "2          True  \n",
              "3          True  \n",
              "4          True  \n",
              "...         ...  \n",
              "500132     True  \n",
              "500133     True  \n",
              "500134     True  \n",
              "500135     True  \n",
              "500136     True  \n",
              "\n",
              "[500137 rows x 17 columns]>"
            ]
          },
          "execution_count": 24,
          "metadata": {},
          "output_type": "execute_result"
        }
      ],
      "source": [
        "df.info"
      ]
    },
    {
      "cell_type": "code",
      "execution_count": null,
      "metadata": {
        "id": "INLiJFrW3WJB"
      },
      "outputs": [],
      "source": [
        "df=df.dropna()"
      ]
    },
    {
      "cell_type": "code",
      "execution_count": null,
      "metadata": {
        "colab": {
          "base_uri": "https://localhost:8080/"
        },
        "id": "pli9BomXZ3B5",
        "outputId": "4d22d3d9-40d3-4067-d2cd-057024eb6467"
      },
      "outputs": [
        {
          "name": "stderr",
          "output_type": "stream",
          "text": [
            "/usr/local/lib/python3.7/dist-packages/ipykernel_launcher.py:3: SettingWithCopyWarning: \n",
            "A value is trying to be set on a copy of a slice from a DataFrame.\n",
            "Try using .loc[row_indexer,col_indexer] = value instead\n",
            "\n",
            "See the caveats in the documentation: https://pandas.pydata.org/pandas-docs/stable/user_guide/indexing.html#returning-a-view-versus-a-copy\n",
            "  This is separate from the ipykernel package so we can avoid doing imports until\n"
          ]
        }
      ],
      "source": [
        "from sklearn.preprocessing import LabelEncoder\n",
        "lb=LabelEncoder()\n",
        "df[\"PREPAID\"]=lb.fit_transform(df[\"PREPAID\"])"
      ]
    },
    {
      "cell_type": "code",
      "execution_count": null,
      "metadata": {
        "colab": {
          "base_uri": "https://localhost:8080/",
          "height": 889
        },
        "id": "OWZJAyyUEyJh",
        "outputId": "19200461-ea0d-4691-8be2-9397d750790d"
      },
      "outputs": [
        {
          "data": {
            "image/png": "[encoded data removed]",
            "text/plain": [
              "<Figure size 864x864 with 2 Axes>"
            ]
          },
          "metadata": {},
          "output_type": "display_data"
        }
      ],
      "source": [
        "corrmat=df.corr()\n",
        "top_corr_feat=corrmat.index\n",
        "plt.figure(figsize=(12,12))\n",
        "s=sns.heatmap(df[top_corr_feat].corr(), annot=True, cmap=\"RdYlGn\")\n",
        "# gotta fix this later; thinking of dropping product type"
      ]
    },
    {
      "cell_type": "code",
      "execution_count": null,
      "metadata": {
        "colab": {
          "base_uri": "https://localhost:8080/",
          "height": 357
        },
        "id": "F_Idg7cCXQ2o",
        "outputId": "915e257f-4c70-458d-e62d-0bbceec4d161"
      },
      "outputs": [
        {
          "name": "stderr",
          "output_type": "stream",
          "text": [
            "/usr/local/lib/python3.7/dist-packages/pandas/core/frame.py:4913: SettingWithCopyWarning: \n",
            "A value is trying to be set on a copy of a slice from a DataFrame\n",
            "\n",
            "See the caveats in the documentation: https://pandas.pydata.org/pandas-docs/stable/user_guide/indexing.html#returning-a-view-versus-a-copy\n",
            "  errors=errors,\n"
          ]
        },
        {
          "data": {
            "text/html": [
              "\n",
              "  <div id=\"df-aad5bf5c-a67f-46e0-a3ce-1e175ea44280\">\n",
              "    <div class=\"colab-df-container\">\n",
              "      <div>\n",
              "<style scoped>\n",
              "    .dataframe tbody tr th:only-of-type {\n",
              "        vertical-align: middle;\n",
              "    }\n",
              "\n",
              "    .dataframe tbody tr th {\n",
              "        vertical-align: top;\n",
              "    }\n",
              "\n",
              "    .dataframe thead th {\n",
              "        text-align: right;\n",
              "    }\n",
              "</style>\n",
              "<table border=\"1\" class=\"dataframe\">\n",
              "  <thead>\n",
              "    <tr style=\"text-align: right;\">\n",
              "      <th></th>\n",
              "      <th>CREDIT_SCORE</th>\n",
              "      <th>FIRST_TIME_HOMEBUYER_FLAG</th>\n",
              "      <th>MORTGAGE_INSURANCE_PERCENTAGE</th>\n",
              "      <th>NUMBER_OF_UNITS</th>\n",
              "      <th>OCCUPANCY_STATUS</th>\n",
              "      <th>ORIGINAL_COMBINED_LOAN_TO_VALUE</th>\n",
              "      <th>ORIGINAL_DEBT_TO_INCOME_RATIO</th>\n",
              "      <th>ORIGINAL_UPB</th>\n",
              "      <th>ORIGINAL_LOAN_TO_VALUE</th>\n",
              "      <th>ORIGINAL_INTEREST_RATE</th>\n",
              "      <th>PREPAYMENT_PENALTY_MORTGAGE_FLAG</th>\n",
              "      <th>PRODUCT_TYPE</th>\n",
              "      <th>PROPERTY_TYPE</th>\n",
              "      <th>LOAN_PURPOSE</th>\n",
              "      <th>ORIGINAL_LOAN_TERM</th>\n",
              "      <th>NUMBER_OF_BORROWERS</th>\n",
              "    </tr>\n",
              "  </thead>\n",
              "  <tbody>\n",
              "    <tr>\n",
              "      <th>0</th>\n",
              "      <td>669.0</td>\n",
              "      <td>N</td>\n",
              "      <td>0.0</td>\n",
              "      <td>1.0</td>\n",
              "      <td>O</td>\n",
              "      <td>80.0</td>\n",
              "      <td>33.0</td>\n",
              "      <td>162000</td>\n",
              "      <td>80.0</td>\n",
              "      <td>7.120</td>\n",
              "      <td>N</td>\n",
              "      <td>FRM</td>\n",
              "      <td>SF</td>\n",
              "      <td>P</td>\n",
              "      <td>320</td>\n",
              "      <td>2.0</td>\n",
              "    </tr>\n",
              "    <tr>\n",
              "      <th>1</th>\n",
              "      <td>732.0</td>\n",
              "      <td>N</td>\n",
              "      <td>0.0</td>\n",
              "      <td>1.0</td>\n",
              "      <td>O</td>\n",
              "      <td>25.0</td>\n",
              "      <td>10.0</td>\n",
              "      <td>53000</td>\n",
              "      <td>25.0</td>\n",
              "      <td>6.500</td>\n",
              "      <td>N</td>\n",
              "      <td>FRM</td>\n",
              "      <td>SF</td>\n",
              "      <td>N</td>\n",
              "      <td>360</td>\n",
              "      <td>1.0</td>\n",
              "    </tr>\n",
              "    <tr>\n",
              "      <th>2</th>\n",
              "      <td>679.0</td>\n",
              "      <td>N</td>\n",
              "      <td>30.0</td>\n",
              "      <td>1.0</td>\n",
              "      <td>O</td>\n",
              "      <td>91.0</td>\n",
              "      <td>48.0</td>\n",
              "      <td>133000</td>\n",
              "      <td>91.0</td>\n",
              "      <td>6.750</td>\n",
              "      <td>N</td>\n",
              "      <td>FRM</td>\n",
              "      <td>SF</td>\n",
              "      <td>P</td>\n",
              "      <td>319</td>\n",
              "      <td>1.0</td>\n",
              "    </tr>\n",
              "    <tr>\n",
              "      <th>3</th>\n",
              "      <td>721.0</td>\n",
              "      <td>N</td>\n",
              "      <td>0.0</td>\n",
              "      <td>1.0</td>\n",
              "      <td>O</td>\n",
              "      <td>39.0</td>\n",
              "      <td>13.0</td>\n",
              "      <td>174000</td>\n",
              "      <td>39.0</td>\n",
              "      <td>6.625</td>\n",
              "      <td>N</td>\n",
              "      <td>FRM</td>\n",
              "      <td>SF</td>\n",
              "      <td>N</td>\n",
              "      <td>318</td>\n",
              "      <td>2.0</td>\n",
              "    </tr>\n",
              "    <tr>\n",
              "      <th>4</th>\n",
              "      <td>618.0</td>\n",
              "      <td>N</td>\n",
              "      <td>25.0</td>\n",
              "      <td>1.0</td>\n",
              "      <td>O</td>\n",
              "      <td>85.0</td>\n",
              "      <td>24.0</td>\n",
              "      <td>122000</td>\n",
              "      <td>85.0</td>\n",
              "      <td>6.375</td>\n",
              "      <td>N</td>\n",
              "      <td>FRM</td>\n",
              "      <td>SF</td>\n",
              "      <td>N</td>\n",
              "      <td>317</td>\n",
              "      <td>2.0</td>\n",
              "    </tr>\n",
              "  </tbody>\n",
              "</table>\n",
              "</div>\n",
              "      <button class=\"colab-df-convert\" onclick=\"convertToInteractive('df-aad5bf5c-a67f-46e0-a3ce-1e175ea44280')\"\n",
              "              title=\"Convert this dataframe to an interactive table.\"\n",
              "              style=\"display:none;\">\n",
              "        \n",
              "  <svg xmlns=\"http://www.w3.org/2000/svg\" height=\"24px\"viewBox=\"0 0 24 24\"\n",
              "       width=\"24px\">\n",
              "    <path d=\"M0 0h24v24H0V0z\" fill=\"none\"/>\n",
              "    <path d=\"M18.56 5.44l.94 2.06.94-2.06 2.06-.94-2.06-.94-.94-2.06-.94 2.06-2.06.94zm-11 1L8.5 8.5l.94-2.06 2.06-.94-2.06-.94L8.5 2.5l-.94 2.06-2.06.94zm10 10l.94 2.06.94-2.06 2.06-.94-2.06-.94-.94-2.06-.94 2.06-2.06.94z\"/><path d=\"M17.41 7.96l-1.37-1.37c-.4-.4-.92-.59-1.43-.59-.52 0-1.04.2-1.43.59L10.3 9.45l-7.72 7.72c-.78.78-.78 2.05 0 2.83L4 21.41c.39.39.9.59 1.41.59.51 0 1.02-.2 1.41-.59l7.78-7.78 2.81-2.81c.8-.78.8-2.07 0-2.86zM5.41 20L4 18.59l7.72-7.72 1.47 1.35L5.41 20z\"/>\n",
              "  </svg>\n",
              "      </button>\n",
              "      \n",
              "  <style>\n",
              "    .colab-df-container {\n",
              "      display:flex;\n",
              "      flex-wrap:wrap;\n",
              "      gap: 12px;\n",
              "    }\n",
              "\n",
              "    .colab-df-convert {\n",
              "      background-color: #E8F0FE;\n",
              "      border: none;\n",
              "      border-radius: 50%;\n",
              "      cursor: pointer;\n",
              "      display: none;\n",
              "      fill: #1967D2;\n",
              "      height: 32px;\n",
              "      padding: 0 0 0 0;\n",
              "      width: 32px;\n",
              "    }\n",
              "\n",
              "    .colab-df-convert:hover {\n",
              "      background-color: #E2EBFA;\n",
              "      box-shadow: 0px 1px 2px rgba(60, 64, 67, 0.3), 0px 1px 3px 1px rgba(60, 64, 67, 0.15);\n",
              "      fill: #174EA6;\n",
              "    }\n",
              "\n",
              "    [theme=dark] .colab-df-convert {\n",
              "      background-color: #3B4455;\n",
              "      fill: #D2E3FC;\n",
              "    }\n",
              "\n",
              "    [theme=dark] .colab-df-convert:hover {\n",
              "      background-color: #434B5C;\n",
              "      box-shadow: 0px 1px 3px 1px rgba(0, 0, 0, 0.15);\n",
              "      filter: drop-shadow(0px 1px 2px rgba(0, 0, 0, 0.3));\n",
              "      fill: #FFFFFF;\n",
              "    }\n",
              "  </style>\n",
              "\n",
              "      <script>\n",
              "        const buttonEl =\n",
              "          document.querySelector('#df-aad5bf5c-a67f-46e0-a3ce-1e175ea44280 button.colab-df-convert');\n",
              "        buttonEl.style.display =\n",
              "          google.colab.kernel.accessAllowed ? 'block' : 'none';\n",
              "\n",
              "        async function convertToInteractive(key) {\n",
              "          const element = document.querySelector('#df-aad5bf5c-a67f-46e0-a3ce-1e175ea44280');\n",
              "          const dataTable =\n",
              "            await google.colab.kernel.invokeFunction('convertToInteractive',\n",
              "                                                     [key], {});\n",
              "          if (!dataTable) return;\n",
              "\n",
              "          const docLinkHtml = 'Like what you see? Visit the ' +\n",
              "            '<a target=\"_blank\" href=https://colab.research.google.com/notebooks/data_table.ipynb>data table notebook</a>'\n",
              "            + ' to learn more about interactive tables.';\n",
              "          element.innerHTML = '';\n",
              "          dataTable['output_type'] = 'display_data';\n",
              "          await google.colab.output.renderOutput(dataTable, element);\n",
              "          const docLink = document.createElement('div');\n",
              "          docLink.innerHTML = docLinkHtml;\n",
              "          element.appendChild(docLink);\n",
              "        }\n",
              "      </script>\n",
              "    </div>\n",
              "  </div>\n",
              "  "
            ],
            "text/plain": [
              "   CREDIT_SCORE FIRST_TIME_HOMEBUYER_FLAG  MORTGAGE_INSURANCE_PERCENTAGE  \\\n",
              "0         669.0                         N                            0.0   \n",
              "1         732.0                         N                            0.0   \n",
              "2         679.0                         N                           30.0   \n",
              "3         721.0                         N                            0.0   \n",
              "4         618.0                         N                           25.0   \n",
              "\n",
              "   NUMBER_OF_UNITS OCCUPANCY_STATUS  ORIGINAL_COMBINED_LOAN_TO_VALUE  \\\n",
              "0              1.0                O                             80.0   \n",
              "1              1.0                O                             25.0   \n",
              "2              1.0                O                             91.0   \n",
              "3              1.0                O                             39.0   \n",
              "4              1.0                O                             85.0   \n",
              "\n",
              "   ORIGINAL_DEBT_TO_INCOME_RATIO  ORIGINAL_UPB  ORIGINAL_LOAN_TO_VALUE  \\\n",
              "0                           33.0        162000                    80.0   \n",
              "1                           10.0         53000                    25.0   \n",
              "2                           48.0        133000                    91.0   \n",
              "3                           13.0        174000                    39.0   \n",
              "4                           24.0        122000                    85.0   \n",
              "\n",
              "   ORIGINAL_INTEREST_RATE PREPAYMENT_PENALTY_MORTGAGE_FLAG PRODUCT_TYPE  \\\n",
              "0                   7.120                                N          FRM   \n",
              "1                   6.500                                N          FRM   \n",
              "2                   6.750                                N          FRM   \n",
              "3                   6.625                                N          FRM   \n",
              "4                   6.375                                N          FRM   \n",
              "\n",
              "  PROPERTY_TYPE LOAN_PURPOSE  ORIGINAL_LOAN_TERM  NUMBER_OF_BORROWERS  \n",
              "0            SF            P                 320                  2.0  \n",
              "1            SF            N                 360                  1.0  \n",
              "2            SF            P                 319                  1.0  \n",
              "3            SF            N                 318                  2.0  \n",
              "4            SF            N                 317                  2.0  "
            ]
          },
          "execution_count": 28,
          "metadata": {},
          "output_type": "execute_result"
        }
      ],
      "source": [
        "X=df.iloc[:,:]\n",
        "y=df.iloc[:,-1]\n",
        "X.drop(columns=[\"PREPAID\"], axis=1, inplace=True)\n",
        "X.head()"
      ]
    },
    {
      "cell_type": "code",
      "execution_count": null,
      "metadata": {
        "colab": {
          "base_uri": "https://localhost:8080/"
        },
        "id": "gAyAWCqoZuRM",
        "outputId": "e3d4a732-91ee-4885-fa40-47a1da58d690"
      },
      "outputs": [
        {
          "data": {
            "text/plain": [
              "0    1\n",
              "1    1\n",
              "2    1\n",
              "3    1\n",
              "4    1\n",
              "Name: PREPAID, dtype: int64"
            ]
          },
          "execution_count": 29,
          "metadata": {},
          "output_type": "execute_result"
        }
      ],
      "source": [
        "y.head()"
      ]
    },
    {
      "cell_type": "code",
      "execution_count": null,
      "metadata": {
        "id": "2vZH_UDlYHMm"
      },
      "outputs": [],
      "source": [
        "df = X"
      ]
    },
    {
      "cell_type": "code",
      "execution_count": null,
      "metadata": {
        "colab": {
          "base_uri": "https://localhost:8080/"
        },
        "id": "n_u1iewh3rHM",
        "outputId": "b7018a80-79af-41b8-abf8-951321c24ec9"
      },
      "outputs": [
        {
          "data": {
            "text/plain": [
              "(326286, 16)"
            ]
          },
          "execution_count": 31,
          "metadata": {},
          "output_type": "execute_result"
        }
      ],
      "source": [
        "df.shape"
      ]
    },
    {
      "cell_type": "code",
      "execution_count": null,
      "metadata": {
        "colab": {
          "base_uri": "https://localhost:8080/",
          "height": 270
        },
        "id": "PLBE-LEM8J6T",
        "outputId": "970ec328-b31d-473b-97ae-153990f8827e"
      },
      "outputs": [
        {
          "data": {
            "text/html": [
              "\n",
              "  <div id=\"df-9c9ba6f7-94d1-424a-9b64-8d44e4ce7c5e\">\n",
              "    <div class=\"colab-df-container\">\n",
              "      <div>\n",
              "<style scoped>\n",
              "    .dataframe tbody tr th:only-of-type {\n",
              "        vertical-align: middle;\n",
              "    }\n",
              "\n",
              "    .dataframe tbody tr th {\n",
              "        vertical-align: top;\n",
              "    }\n",
              "\n",
              "    .dataframe thead th {\n",
              "        text-align: right;\n",
              "    }\n",
              "</style>\n",
              "<table border=\"1\" class=\"dataframe\">\n",
              "  <thead>\n",
              "    <tr style=\"text-align: right;\">\n",
              "      <th></th>\n",
              "      <th>CREDIT_SCORE</th>\n",
              "      <th>FIRST_TIME_HOMEBUYER_FLAG</th>\n",
              "      <th>MORTGAGE_INSURANCE_PERCENTAGE</th>\n",
              "      <th>NUMBER_OF_UNITS</th>\n",
              "      <th>OCCUPANCY_STATUS</th>\n",
              "      <th>ORIGINAL_COMBINED_LOAN_TO_VALUE</th>\n",
              "      <th>ORIGINAL_DEBT_TO_INCOME_RATIO</th>\n",
              "      <th>ORIGINAL_UPB</th>\n",
              "      <th>ORIGINAL_LOAN_TO_VALUE</th>\n",
              "      <th>ORIGINAL_INTEREST_RATE</th>\n",
              "      <th>PREPAYMENT_PENALTY_MORTGAGE_FLAG</th>\n",
              "      <th>PRODUCT_TYPE</th>\n",
              "      <th>PROPERTY_TYPE</th>\n",
              "      <th>LOAN_PURPOSE</th>\n",
              "      <th>ORIGINAL_LOAN_TERM</th>\n",
              "      <th>NUMBER_OF_BORROWERS</th>\n",
              "    </tr>\n",
              "  </thead>\n",
              "  <tbody>\n",
              "    <tr>\n",
              "      <th>0</th>\n",
              "      <td>669.0</td>\n",
              "      <td>N</td>\n",
              "      <td>0.0</td>\n",
              "      <td>1.0</td>\n",
              "      <td>O</td>\n",
              "      <td>80.0</td>\n",
              "      <td>33.0</td>\n",
              "      <td>162000</td>\n",
              "      <td>80.0</td>\n",
              "      <td>7.120</td>\n",
              "      <td>N</td>\n",
              "      <td>FRM</td>\n",
              "      <td>SF</td>\n",
              "      <td>P</td>\n",
              "      <td>320</td>\n",
              "      <td>2.0</td>\n",
              "    </tr>\n",
              "    <tr>\n",
              "      <th>1</th>\n",
              "      <td>732.0</td>\n",
              "      <td>N</td>\n",
              "      <td>0.0</td>\n",
              "      <td>1.0</td>\n",
              "      <td>O</td>\n",
              "      <td>25.0</td>\n",
              "      <td>10.0</td>\n",
              "      <td>53000</td>\n",
              "      <td>25.0</td>\n",
              "      <td>6.500</td>\n",
              "      <td>N</td>\n",
              "      <td>FRM</td>\n",
              "      <td>SF</td>\n",
              "      <td>N</td>\n",
              "      <td>360</td>\n",
              "      <td>1.0</td>\n",
              "    </tr>\n",
              "    <tr>\n",
              "      <th>2</th>\n",
              "      <td>679.0</td>\n",
              "      <td>N</td>\n",
              "      <td>30.0</td>\n",
              "      <td>1.0</td>\n",
              "      <td>O</td>\n",
              "      <td>91.0</td>\n",
              "      <td>48.0</td>\n",
              "      <td>133000</td>\n",
              "      <td>91.0</td>\n",
              "      <td>6.750</td>\n",
              "      <td>N</td>\n",
              "      <td>FRM</td>\n",
              "      <td>SF</td>\n",
              "      <td>P</td>\n",
              "      <td>319</td>\n",
              "      <td>1.0</td>\n",
              "    </tr>\n",
              "    <tr>\n",
              "      <th>3</th>\n",
              "      <td>721.0</td>\n",
              "      <td>N</td>\n",
              "      <td>0.0</td>\n",
              "      <td>1.0</td>\n",
              "      <td>O</td>\n",
              "      <td>39.0</td>\n",
              "      <td>13.0</td>\n",
              "      <td>174000</td>\n",
              "      <td>39.0</td>\n",
              "      <td>6.625</td>\n",
              "      <td>N</td>\n",
              "      <td>FRM</td>\n",
              "      <td>SF</td>\n",
              "      <td>N</td>\n",
              "      <td>318</td>\n",
              "      <td>2.0</td>\n",
              "    </tr>\n",
              "    <tr>\n",
              "      <th>4</th>\n",
              "      <td>618.0</td>\n",
              "      <td>N</td>\n",
              "      <td>25.0</td>\n",
              "      <td>1.0</td>\n",
              "      <td>O</td>\n",
              "      <td>85.0</td>\n",
              "      <td>24.0</td>\n",
              "      <td>122000</td>\n",
              "      <td>85.0</td>\n",
              "      <td>6.375</td>\n",
              "      <td>N</td>\n",
              "      <td>FRM</td>\n",
              "      <td>SF</td>\n",
              "      <td>N</td>\n",
              "      <td>317</td>\n",
              "      <td>2.0</td>\n",
              "    </tr>\n",
              "  </tbody>\n",
              "</table>\n",
              "</div>\n",
              "      <button class=\"colab-df-convert\" onclick=\"convertToInteractive('df-9c9ba6f7-94d1-424a-9b64-8d44e4ce7c5e')\"\n",
              "              title=\"Convert this dataframe to an interactive table.\"\n",
              "              style=\"display:none;\">\n",
              "        \n",
              "  <svg xmlns=\"http://www.w3.org/2000/svg\" height=\"24px\"viewBox=\"0 0 24 24\"\n",
              "       width=\"24px\">\n",
              "    <path d=\"M0 0h24v24H0V0z\" fill=\"none\"/>\n",
              "    <path d=\"M18.56 5.44l.94 2.06.94-2.06 2.06-.94-2.06-.94-.94-2.06-.94 2.06-2.06.94zm-11 1L8.5 8.5l.94-2.06 2.06-.94-2.06-.94L8.5 2.5l-.94 2.06-2.06.94zm10 10l.94 2.06.94-2.06 2.06-.94-2.06-.94-.94-2.06-.94 2.06-2.06.94z\"/><path d=\"M17.41 7.96l-1.37-1.37c-.4-.4-.92-.59-1.43-.59-.52 0-1.04.2-1.43.59L10.3 9.45l-7.72 7.72c-.78.78-.78 2.05 0 2.83L4 21.41c.39.39.9.59 1.41.59.51 0 1.02-.2 1.41-.59l7.78-7.78 2.81-2.81c.8-.78.8-2.07 0-2.86zM5.41 20L4 18.59l7.72-7.72 1.47 1.35L5.41 20z\"/>\n",
              "  </svg>\n",
              "      </button>\n",
              "      \n",
              "  <style>\n",
              "    .colab-df-container {\n",
              "      display:flex;\n",
              "      flex-wrap:wrap;\n",
              "      gap: 12px;\n",
              "    }\n",
              "\n",
              "    .colab-df-convert {\n",
              "      background-color: #E8F0FE;\n",
              "      border: none;\n",
              "      border-radius: 50%;\n",
              "      cursor: pointer;\n",
              "      display: none;\n",
              "      fill: #1967D2;\n",
              "      height: 32px;\n",
              "      padding: 0 0 0 0;\n",
              "      width: 32px;\n",
              "    }\n",
              "\n",
              "    .colab-df-convert:hover {\n",
              "      background-color: #E2EBFA;\n",
              "      box-shadow: 0px 1px 2px rgba(60, 64, 67, 0.3), 0px 1px 3px 1px rgba(60, 64, 67, 0.15);\n",
              "      fill: #174EA6;\n",
              "    }\n",
              "\n",
              "    [theme=dark] .colab-df-convert {\n",
              "      background-color: #3B4455;\n",
              "      fill: #D2E3FC;\n",
              "    }\n",
              "\n",
              "    [theme=dark] .colab-df-convert:hover {\n",
              "      background-color: #434B5C;\n",
              "      box-shadow: 0px 1px 3px 1px rgba(0, 0, 0, 0.15);\n",
              "      filter: drop-shadow(0px 1px 2px rgba(0, 0, 0, 0.3));\n",
              "      fill: #FFFFFF;\n",
              "    }\n",
              "  </style>\n",
              "\n",
              "      <script>\n",
              "        const buttonEl =\n",
              "          document.querySelector('#df-9c9ba6f7-94d1-424a-9b64-8d44e4ce7c5e button.colab-df-convert');\n",
              "        buttonEl.style.display =\n",
              "          google.colab.kernel.accessAllowed ? 'block' : 'none';\n",
              "\n",
              "        async function convertToInteractive(key) {\n",
              "          const element = document.querySelector('#df-9c9ba6f7-94d1-424a-9b64-8d44e4ce7c5e');\n",
              "          const dataTable =\n",
              "            await google.colab.kernel.invokeFunction('convertToInteractive',\n",
              "                                                     [key], {});\n",
              "          if (!dataTable) return;\n",
              "\n",
              "          const docLinkHtml = 'Like what you see? Visit the ' +\n",
              "            '<a target=\"_blank\" href=https://colab.research.google.com/notebooks/data_table.ipynb>data table notebook</a>'\n",
              "            + ' to learn more about interactive tables.';\n",
              "          element.innerHTML = '';\n",
              "          dataTable['output_type'] = 'display_data';\n",
              "          await google.colab.output.renderOutput(dataTable, element);\n",
              "          const docLink = document.createElement('div');\n",
              "          docLink.innerHTML = docLinkHtml;\n",
              "          element.appendChild(docLink);\n",
              "        }\n",
              "      </script>\n",
              "    </div>\n",
              "  </div>\n",
              "  "
            ],
            "text/plain": [
              "   CREDIT_SCORE FIRST_TIME_HOMEBUYER_FLAG  MORTGAGE_INSURANCE_PERCENTAGE  \\\n",
              "0         669.0                         N                            0.0   \n",
              "1         732.0                         N                            0.0   \n",
              "2         679.0                         N                           30.0   \n",
              "3         721.0                         N                            0.0   \n",
              "4         618.0                         N                           25.0   \n",
              "\n",
              "   NUMBER_OF_UNITS OCCUPANCY_STATUS  ORIGINAL_COMBINED_LOAN_TO_VALUE  \\\n",
              "0              1.0                O                             80.0   \n",
              "1              1.0                O                             25.0   \n",
              "2              1.0                O                             91.0   \n",
              "3              1.0                O                             39.0   \n",
              "4              1.0                O                             85.0   \n",
              "\n",
              "   ORIGINAL_DEBT_TO_INCOME_RATIO  ORIGINAL_UPB  ORIGINAL_LOAN_TO_VALUE  \\\n",
              "0                           33.0        162000                    80.0   \n",
              "1                           10.0         53000                    25.0   \n",
              "2                           48.0        133000                    91.0   \n",
              "3                           13.0        174000                    39.0   \n",
              "4                           24.0        122000                    85.0   \n",
              "\n",
              "   ORIGINAL_INTEREST_RATE PREPAYMENT_PENALTY_MORTGAGE_FLAG PRODUCT_TYPE  \\\n",
              "0                   7.120                                N          FRM   \n",
              "1                   6.500                                N          FRM   \n",
              "2                   6.750                                N          FRM   \n",
              "3                   6.625                                N          FRM   \n",
              "4                   6.375                                N          FRM   \n",
              "\n",
              "  PROPERTY_TYPE LOAN_PURPOSE  ORIGINAL_LOAN_TERM  NUMBER_OF_BORROWERS  \n",
              "0            SF            P                 320                  2.0  \n",
              "1            SF            N                 360                  1.0  \n",
              "2            SF            P                 319                  1.0  \n",
              "3            SF            N                 318                  2.0  \n",
              "4            SF            N                 317                  2.0  "
            ]
          },
          "execution_count": 32,
          "metadata": {},
          "output_type": "execute_result"
        }
      ],
      "source": [
        "df.head()"
      ]
    },
    {
      "cell_type": "code",
      "execution_count": null,
      "metadata": {
        "id": "C3sOh9Dg7zwb"
      },
      "outputs": [],
      "source": [
        "# df[\"FIRST_TIME_HOMEBUYER_FLAG\"]=pd.get_dummies(df[\"FIRST_TIME_HOMEBUYER_FLAG\"], drop_first=True)\n",
        "# df['FIRST_TIME_HOMEBUYER_FLAG'].value_counts()"
      ]
    },
    {
      "cell_type": "code",
      "execution_count": null,
      "metadata": {
        "id": "GA0zA_bz7z0U"
      },
      "outputs": [],
      "source": [
        "# df.concat(pd.get_dummies(df[\"PROPERTY_TYPE\"], drop_first=True))\n",
        "df = pd.get_dummies(data=df,columns=['PROPERTY_TYPE','OCCUPANCY_STATUS'], drop_first=True)\n"
      ]
    },
    {
      "cell_type": "code",
      "execution_count": null,
      "metadata": {
        "id": "9IJTUH3zAFRm"
      },
      "outputs": [],
      "source": [
        "# df = pd.get_dummies(data=df,columns=['OCCUPANCY_STATUS'], drop_first=True)"
      ]
    },
    {
      "cell_type": "code",
      "execution_count": null,
      "metadata": {
        "id": "qzSa21wTAVUK"
      },
      "outputs": [],
      "source": [
        "df['PREPAYMENT_PENALTY_MORTGAGE_FLAG'] =df['PREPAYMENT_PENALTY_MORTGAGE_FLAG'].replace({'N' : 0, 'Y': 1})\n",
        "df['PRODUCT_TYPE'] =df['PRODUCT_TYPE'].replace({'FRM' : 0, 'ARM': 1})\n",
        "# df['LOAN_PURPOSE'] =df['LOAN_PURPOSE'].replace({'N' : 0, 'P': 1})"
      ]
    },
    {
      "cell_type": "code",
      "execution_count": null,
      "metadata": {
        "id": "sugAxD5WBcna"
      },
      "outputs": [],
      "source": [
        "df = pd.get_dummies(data=df,columns=['FIRST_TIME_HOMEBUYER_FLAG'], drop_first=True)"
      ]
    },
    {
      "cell_type": "code",
      "execution_count": null,
      "metadata": {
        "id": "qZrHnfXag08M"
      },
      "outputs": [],
      "source": [
        "df = pd.get_dummies(data=df,columns=['LOAN_PURPOSE'], drop_first=True)"
      ]
    },
    {
      "cell_type": "code",
      "execution_count": null,
      "metadata": {
        "colab": {
          "base_uri": "https://localhost:8080/",
          "height": 299
        },
        "id": "81STJJwi7z15",
        "outputId": "b695ae44-bfca-4b4d-caf5-4a3683c30bfd"
      },
      "outputs": [
        {
          "data": {
            "text/html": [
              "\n",
              "  <div id=\"df-f61c14e7-e68e-4a24-bc32-3c035511d808\">\n",
              "    <div class=\"colab-df-container\">\n",
              "      <div>\n",
              "<style scoped>\n",
              "    .dataframe tbody tr th:only-of-type {\n",
              "        vertical-align: middle;\n",
              "    }\n",
              "\n",
              "    .dataframe tbody tr th {\n",
              "        vertical-align: top;\n",
              "    }\n",
              "\n",
              "    .dataframe thead th {\n",
              "        text-align: right;\n",
              "    }\n",
              "</style>\n",
              "<table border=\"1\" class=\"dataframe\">\n",
              "  <thead>\n",
              "    <tr style=\"text-align: right;\">\n",
              "      <th></th>\n",
              "      <th>CREDIT_SCORE</th>\n",
              "      <th>MORTGAGE_INSURANCE_PERCENTAGE</th>\n",
              "      <th>NUMBER_OF_UNITS</th>\n",
              "      <th>ORIGINAL_COMBINED_LOAN_TO_VALUE</th>\n",
              "      <th>ORIGINAL_DEBT_TO_INCOME_RATIO</th>\n",
              "      <th>ORIGINAL_UPB</th>\n",
              "      <th>ORIGINAL_LOAN_TO_VALUE</th>\n",
              "      <th>ORIGINAL_INTEREST_RATE</th>\n",
              "      <th>PREPAYMENT_PENALTY_MORTGAGE_FLAG</th>\n",
              "      <th>PRODUCT_TYPE</th>\n",
              "      <th>...</th>\n",
              "      <th>PROPERTY_TYPE_CP</th>\n",
              "      <th>PROPERTY_TYPE_LH</th>\n",
              "      <th>PROPERTY_TYPE_MH</th>\n",
              "      <th>PROPERTY_TYPE_PU</th>\n",
              "      <th>PROPERTY_TYPE_SF</th>\n",
              "      <th>OCCUPANCY_STATUS_O</th>\n",
              "      <th>OCCUPANCY_STATUS_S</th>\n",
              "      <th>FIRST_TIME_HOMEBUYER_FLAG_Y</th>\n",
              "      <th>LOAN_PURPOSE_N</th>\n",
              "      <th>LOAN_PURPOSE_P</th>\n",
              "    </tr>\n",
              "  </thead>\n",
              "  <tbody>\n",
              "    <tr>\n",
              "      <th>0</th>\n",
              "      <td>669.0</td>\n",
              "      <td>0.0</td>\n",
              "      <td>1.0</td>\n",
              "      <td>80.0</td>\n",
              "      <td>33.0</td>\n",
              "      <td>162000</td>\n",
              "      <td>80.0</td>\n",
              "      <td>7.120</td>\n",
              "      <td>0</td>\n",
              "      <td>0</td>\n",
              "      <td>...</td>\n",
              "      <td>0</td>\n",
              "      <td>0</td>\n",
              "      <td>0</td>\n",
              "      <td>0</td>\n",
              "      <td>1</td>\n",
              "      <td>1</td>\n",
              "      <td>0</td>\n",
              "      <td>0</td>\n",
              "      <td>0</td>\n",
              "      <td>1</td>\n",
              "    </tr>\n",
              "    <tr>\n",
              "      <th>1</th>\n",
              "      <td>732.0</td>\n",
              "      <td>0.0</td>\n",
              "      <td>1.0</td>\n",
              "      <td>25.0</td>\n",
              "      <td>10.0</td>\n",
              "      <td>53000</td>\n",
              "      <td>25.0</td>\n",
              "      <td>6.500</td>\n",
              "      <td>0</td>\n",
              "      <td>0</td>\n",
              "      <td>...</td>\n",
              "      <td>0</td>\n",
              "      <td>0</td>\n",
              "      <td>0</td>\n",
              "      <td>0</td>\n",
              "      <td>1</td>\n",
              "      <td>1</td>\n",
              "      <td>0</td>\n",
              "      <td>0</td>\n",
              "      <td>1</td>\n",
              "      <td>0</td>\n",
              "    </tr>\n",
              "    <tr>\n",
              "      <th>2</th>\n",
              "      <td>679.0</td>\n",
              "      <td>30.0</td>\n",
              "      <td>1.0</td>\n",
              "      <td>91.0</td>\n",
              "      <td>48.0</td>\n",
              "      <td>133000</td>\n",
              "      <td>91.0</td>\n",
              "      <td>6.750</td>\n",
              "      <td>0</td>\n",
              "      <td>0</td>\n",
              "      <td>...</td>\n",
              "      <td>0</td>\n",
              "      <td>0</td>\n",
              "      <td>0</td>\n",
              "      <td>0</td>\n",
              "      <td>1</td>\n",
              "      <td>1</td>\n",
              "      <td>0</td>\n",
              "      <td>0</td>\n",
              "      <td>0</td>\n",
              "      <td>1</td>\n",
              "    </tr>\n",
              "    <tr>\n",
              "      <th>3</th>\n",
              "      <td>721.0</td>\n",
              "      <td>0.0</td>\n",
              "      <td>1.0</td>\n",
              "      <td>39.0</td>\n",
              "      <td>13.0</td>\n",
              "      <td>174000</td>\n",
              "      <td>39.0</td>\n",
              "      <td>6.625</td>\n",
              "      <td>0</td>\n",
              "      <td>0</td>\n",
              "      <td>...</td>\n",
              "      <td>0</td>\n",
              "      <td>0</td>\n",
              "      <td>0</td>\n",
              "      <td>0</td>\n",
              "      <td>1</td>\n",
              "      <td>1</td>\n",
              "      <td>0</td>\n",
              "      <td>0</td>\n",
              "      <td>1</td>\n",
              "      <td>0</td>\n",
              "    </tr>\n",
              "    <tr>\n",
              "      <th>4</th>\n",
              "      <td>618.0</td>\n",
              "      <td>25.0</td>\n",
              "      <td>1.0</td>\n",
              "      <td>85.0</td>\n",
              "      <td>24.0</td>\n",
              "      <td>122000</td>\n",
              "      <td>85.0</td>\n",
              "      <td>6.375</td>\n",
              "      <td>0</td>\n",
              "      <td>0</td>\n",
              "      <td>...</td>\n",
              "      <td>0</td>\n",
              "      <td>0</td>\n",
              "      <td>0</td>\n",
              "      <td>0</td>\n",
              "      <td>1</td>\n",
              "      <td>1</td>\n",
              "      <td>0</td>\n",
              "      <td>0</td>\n",
              "      <td>1</td>\n",
              "      <td>0</td>\n",
              "    </tr>\n",
              "  </tbody>\n",
              "</table>\n",
              "<p>5 rows × 22 columns</p>\n",
              "</div>\n",
              "      <button class=\"colab-df-convert\" onclick=\"convertToInteractive('df-f61c14e7-e68e-4a24-bc32-3c035511d808')\"\n",
              "              title=\"Convert this dataframe to an interactive table.\"\n",
              "              style=\"display:none;\">\n",
              "        \n",
              "  <svg xmlns=\"http://www.w3.org/2000/svg\" height=\"24px\"viewBox=\"0 0 24 24\"\n",
              "       width=\"24px\">\n",
              "    <path d=\"M0 0h24v24H0V0z\" fill=\"none\"/>\n",
              "    <path d=\"M18.56 5.44l.94 2.06.94-2.06 2.06-.94-2.06-.94-.94-2.06-.94 2.06-2.06.94zm-11 1L8.5 8.5l.94-2.06 2.06-.94-2.06-.94L8.5 2.5l-.94 2.06-2.06.94zm10 10l.94 2.06.94-2.06 2.06-.94-2.06-.94-.94-2.06-.94 2.06-2.06.94z\"/><path d=\"M17.41 7.96l-1.37-1.37c-.4-.4-.92-.59-1.43-.59-.52 0-1.04.2-1.43.59L10.3 9.45l-7.72 7.72c-.78.78-.78 2.05 0 2.83L4 21.41c.39.39.9.59 1.41.59.51 0 1.02-.2 1.41-.59l7.78-7.78 2.81-2.81c.8-.78.8-2.07 0-2.86zM5.41 20L4 18.59l7.72-7.72 1.47 1.35L5.41 20z\"/>\n",
              "  </svg>\n",
              "      </button>\n",
              "      \n",
              "  <style>\n",
              "    .colab-df-container {\n",
              "      display:flex;\n",
              "      flex-wrap:wrap;\n",
              "      gap: 12px;\n",
              "    }\n",
              "\n",
              "    .colab-df-convert {\n",
              "      background-color: #E8F0FE;\n",
              "      border: none;\n",
              "      border-radius: 50%;\n",
              "      cursor: pointer;\n",
              "      display: none;\n",
              "      fill: #1967D2;\n",
              "      height: 32px;\n",
              "      padding: 0 0 0 0;\n",
              "      width: 32px;\n",
              "    }\n",
              "\n",
              "    .colab-df-convert:hover {\n",
              "      background-color: #E2EBFA;\n",
              "      box-shadow: 0px 1px 2px rgba(60, 64, 67, 0.3), 0px 1px 3px 1px rgba(60, 64, 67, 0.15);\n",
              "      fill: #174EA6;\n",
              "    }\n",
              "\n",
              "    [theme=dark] .colab-df-convert {\n",
              "      background-color: #3B4455;\n",
              "      fill: #D2E3FC;\n",
              "    }\n",
              "\n",
              "    [theme=dark] .colab-df-convert:hover {\n",
              "      background-color: #434B5C;\n",
              "      box-shadow: 0px 1px 3px 1px rgba(0, 0, 0, 0.15);\n",
              "      filter: drop-shadow(0px 1px 2px rgba(0, 0, 0, 0.3));\n",
              "      fill: #FFFFFF;\n",
              "    }\n",
              "  </style>\n",
              "\n",
              "      <script>\n",
              "        const buttonEl =\n",
              "          document.querySelector('#df-f61c14e7-e68e-4a24-bc32-3c035511d808 button.colab-df-convert');\n",
              "        buttonEl.style.display =\n",
              "          google.colab.kernel.accessAllowed ? 'block' : 'none';\n",
              "\n",
              "        async function convertToInteractive(key) {\n",
              "          const element = document.querySelector('#df-f61c14e7-e68e-4a24-bc32-3c035511d808');\n",
              "          const dataTable =\n",
              "            await google.colab.kernel.invokeFunction('convertToInteractive',\n",
              "                                                     [key], {});\n",
              "          if (!dataTable) return;\n",
              "\n",
              "          const docLinkHtml = 'Like what you see? Visit the ' +\n",
              "            '<a target=\"_blank\" href=https://colab.research.google.com/notebooks/data_table.ipynb>data table notebook</a>'\n",
              "            + ' to learn more about interactive tables.';\n",
              "          element.innerHTML = '';\n",
              "          dataTable['output_type'] = 'display_data';\n",
              "          await google.colab.output.renderOutput(dataTable, element);\n",
              "          const docLink = document.createElement('div');\n",
              "          docLink.innerHTML = docLinkHtml;\n",
              "          element.appendChild(docLink);\n",
              "        }\n",
              "      </script>\n",
              "    </div>\n",
              "  </div>\n",
              "  "
            ],
            "text/plain": [
              "   CREDIT_SCORE  MORTGAGE_INSURANCE_PERCENTAGE  NUMBER_OF_UNITS  \\\n",
              "0         669.0                            0.0              1.0   \n",
              "1         732.0                            0.0              1.0   \n",
              "2         679.0                           30.0              1.0   \n",
              "3         721.0                            0.0              1.0   \n",
              "4         618.0                           25.0              1.0   \n",
              "\n",
              "   ORIGINAL_COMBINED_LOAN_TO_VALUE  ORIGINAL_DEBT_TO_INCOME_RATIO  \\\n",
              "0                             80.0                           33.0   \n",
              "1                             25.0                           10.0   \n",
              "2                             91.0                           48.0   \n",
              "3                             39.0                           13.0   \n",
              "4                             85.0                           24.0   \n",
              "\n",
              "   ORIGINAL_UPB  ORIGINAL_LOAN_TO_VALUE  ORIGINAL_INTEREST_RATE  \\\n",
              "0        162000                    80.0                   7.120   \n",
              "1         53000                    25.0                   6.500   \n",
              "2        133000                    91.0                   6.750   \n",
              "3        174000                    39.0                   6.625   \n",
              "4        122000                    85.0                   6.375   \n",
              "\n",
              "   PREPAYMENT_PENALTY_MORTGAGE_FLAG  PRODUCT_TYPE  ...  PROPERTY_TYPE_CP  \\\n",
              "0                                 0             0  ...                 0   \n",
              "1                                 0             0  ...                 0   \n",
              "2                                 0             0  ...                 0   \n",
              "3                                 0             0  ...                 0   \n",
              "4                                 0             0  ...                 0   \n",
              "\n",
              "   PROPERTY_TYPE_LH  PROPERTY_TYPE_MH  PROPERTY_TYPE_PU  PROPERTY_TYPE_SF  \\\n",
              "0                 0                 0                 0                 1   \n",
              "1                 0                 0                 0                 1   \n",
              "2                 0                 0                 0                 1   \n",
              "3                 0                 0                 0                 1   \n",
              "4                 0                 0                 0                 1   \n",
              "\n",
              "   OCCUPANCY_STATUS_O  OCCUPANCY_STATUS_S  FIRST_TIME_HOMEBUYER_FLAG_Y  \\\n",
              "0                   1                   0                            0   \n",
              "1                   1                   0                            0   \n",
              "2                   1                   0                            0   \n",
              "3                   1                   0                            0   \n",
              "4                   1                   0                            0   \n",
              "\n",
              "   LOAN_PURPOSE_N  LOAN_PURPOSE_P  \n",
              "0               0               1  \n",
              "1               1               0  \n",
              "2               0               1  \n",
              "3               1               0  \n",
              "4               1               0  \n",
              "\n",
              "[5 rows x 22 columns]"
            ]
          },
          "execution_count": 39,
          "metadata": {},
          "output_type": "execute_result"
        }
      ],
      "source": [
        "df.head()"
      ]
    },
    {
      "cell_type": "code",
      "execution_count": null,
      "metadata": {
        "colab": {
          "base_uri": "https://localhost:8080/"
        },
        "id": "XTvUVnHC7z4W",
        "outputId": "72276106-0a48-476c-c37f-4b3b4ad0503c"
      },
      "outputs": [
        {
          "data": {
            "text/plain": [
              "(326286, 22)"
            ]
          },
          "execution_count": 40,
          "metadata": {},
          "output_type": "execute_result"
        }
      ],
      "source": [
        "df.shape"
      ]
    },
    {
      "cell_type": "code",
      "execution_count": null,
      "metadata": {
        "colab": {
          "base_uri": "https://localhost:8080/"
        },
        "id": "-nRVhByRbw-x",
        "outputId": "2e114513-8619-4f8c-89e1-996744c579e8"
      },
      "outputs": [
        {
          "name": "stdout",
          "output_type": "stream",
          "text": [
            "<class 'pandas.core.frame.DataFrame'>\n",
            "Int64Index: 326286 entries, 0 to 500095\n",
            "Data columns (total 22 columns):\n",
            " #   Column                            Non-Null Count   Dtype  \n",
            "---  ------                            --------------   -----  \n",
            " 0   CREDIT_SCORE                      326286 non-null  float64\n",
            " 1   MORTGAGE_INSURANCE_PERCENTAGE     326286 non-null  float64\n",
            " 2   NUMBER_OF_UNITS                   326286 non-null  float64\n",
            " 3   ORIGINAL_COMBINED_LOAN_TO_VALUE   326286 non-null  float64\n",
            " 4   ORIGINAL_DEBT_TO_INCOME_RATIO     326286 non-null  float64\n",
            " 5   ORIGINAL_UPB                      326286 non-null  int64  \n",
            " 6   ORIGINAL_LOAN_TO_VALUE            326286 non-null  float64\n",
            " 7   ORIGINAL_INTEREST_RATE            326286 non-null  float64\n",
            " 8   PREPAYMENT_PENALTY_MORTGAGE_FLAG  326286 non-null  int64  \n",
            " 9   PRODUCT_TYPE                      326286 non-null  int64  \n",
            " 10  ORIGINAL_LOAN_TERM                326286 non-null  int64  \n",
            " 11  NUMBER_OF_BORROWERS               326286 non-null  float64\n",
            " 12  PROPERTY_TYPE_CP                  326286 non-null  uint8  \n",
            " 13  PROPERTY_TYPE_LH                  326286 non-null  uint8  \n",
            " 14  PROPERTY_TYPE_MH                  326286 non-null  uint8  \n",
            " 15  PROPERTY_TYPE_PU                  326286 non-null  uint8  \n",
            " 16  PROPERTY_TYPE_SF                  326286 non-null  uint8  \n",
            " 17  OCCUPANCY_STATUS_O                326286 non-null  uint8  \n",
            " 18  OCCUPANCY_STATUS_S                326286 non-null  uint8  \n",
            " 19  FIRST_TIME_HOMEBUYER_FLAG_Y       326286 non-null  uint8  \n",
            " 20  LOAN_PURPOSE_N                    326286 non-null  uint8  \n",
            " 21  LOAN_PURPOSE_P                    326286 non-null  uint8  \n",
            "dtypes: float64(8), int64(4), uint8(10)\n",
            "memory usage: 35.5 MB\n"
          ]
        }
      ],
      "source": [
        "df.info()"
      ]
    },
    {
      "cell_type": "code",
      "execution_count": null,
      "metadata": {
        "id": "yDNfVZvlOaBP"
      },
      "outputs": [],
      "source": [
        "df['ORIGINAL_UPB'] = df.ORIGINAL_UPB.astype(float)\n",
        "df['PREPAYMENT_PENALTY_MORTGAGE_FLAG'] = df.PREPAYMENT_PENALTY_MORTGAGE_FLAG.astype(float)\n",
        "df['PRODUCT_TYPE'] = df.PRODUCT_TYPE.astype(float)\n",
        "df['ORIGINAL_LOAN_TERM'] = df.ORIGINAL_LOAN_TERM.astype(float)\n",
        "df['PROPERTY_TYPE_CP'] = df.PROPERTY_TYPE_CP.astype(float)\n",
        "\n",
        "df['PROPERTY_TYPE_LH'] = df.PROPERTY_TYPE_LH.astype(float)\n",
        "df['PREPAYMENT_PENALTY_MORTGAGE_FLAG'] = df.PREPAYMENT_PENALTY_MORTGAGE_FLAG.astype(float)\n",
        "df['PROPERTY_TYPE_MH'] = df.PROPERTY_TYPE_MH.astype(float)\n",
        "df['PROPERTY_TYPE_PU'] = df.PROPERTY_TYPE_PU.astype(float)\n",
        "df['PROPERTY_TYPE_SF'] = df.PROPERTY_TYPE_SF.astype(float)\n",
        "\n",
        "df['OCCUPANCY_STATUS_O'] = df.OCCUPANCY_STATUS_O.astype(float)\n",
        "df['OCCUPANCY_STATUS_S'] = df.OCCUPANCY_STATUS_S.astype(float)\n",
        "df['FIRST_TIME_HOMEBUYER_FLAG_Y'] = df.FIRST_TIME_HOMEBUYER_FLAG_Y.astype(float)\n",
        "df['LOAN_PURPOSE_1'] = df.LOAN_PURPOSE_N.astype(float)\n",
        "df['LOAN_PURPOSE_C'] = df.LOAN_PURPOSE_P.astype(float)"
      ]
    },
    {
      "cell_type": "code",
      "execution_count": null,
      "metadata": {
        "colab": {
          "base_uri": "https://localhost:8080/"
        },
        "id": "o9cr6mxnEyNv",
        "outputId": "2a95bd97-4c42-4ec9-a12e-1cf689a88a82"
      },
      "outputs": [
        {
          "name": "stdout",
          "output_type": "stream",
          "text": [
            "<class 'pandas.core.frame.DataFrame'>\n",
            "Int64Index: 326286 entries, 0 to 500095\n",
            "Data columns (total 24 columns):\n",
            " #   Column                            Non-Null Count   Dtype  \n",
            "---  ------                            --------------   -----  \n",
            " 0   CREDIT_SCORE                      326286 non-null  float64\n",
            " 1   MORTGAGE_INSURANCE_PERCENTAGE     326286 non-null  float64\n",
            " 2   NUMBER_OF_UNITS                   326286 non-null  float64\n",
            " 3   ORIGINAL_COMBINED_LOAN_TO_VALUE   326286 non-null  float64\n",
            " 4   ORIGINAL_DEBT_TO_INCOME_RATIO     326286 non-null  float64\n",
            " 5   ORIGINAL_UPB                      326286 non-null  float64\n",
            " 6   ORIGINAL_LOAN_TO_VALUE            326286 non-null  float64\n",
            " 7   ORIGINAL_INTEREST_RATE            326286 non-null  float64\n",
            " 8   PREPAYMENT_PENALTY_MORTGAGE_FLAG  326286 non-null  float64\n",
            " 9   PRODUCT_TYPE                      326286 non-null  float64\n",
            " 10  ORIGINAL_LOAN_TERM                326286 non-null  float64\n",
            " 11  NUMBER_OF_BORROWERS               326286 non-null  float64\n",
            " 12  PROPERTY_TYPE_CP                  326286 non-null  float64\n",
            " 13  PROPERTY_TYPE_LH                  326286 non-null  float64\n",
            " 14  PROPERTY_TYPE_MH                  326286 non-null  float64\n",
            " 15  PROPERTY_TYPE_PU                  326286 non-null  float64\n",
            " 16  PROPERTY_TYPE_SF                  326286 non-null  float64\n",
            " 17  OCCUPANCY_STATUS_O                326286 non-null  float64\n",
            " 18  OCCUPANCY_STATUS_S                326286 non-null  float64\n",
            " 19  FIRST_TIME_HOMEBUYER_FLAG_Y       326286 non-null  float64\n",
            " 20  LOAN_PURPOSE_N                    326286 non-null  uint8  \n",
            " 21  LOAN_PURPOSE_P                    326286 non-null  uint8  \n",
            " 22  LOAN_PURPOSE_1                    326286 non-null  float64\n",
            " 23  LOAN_PURPOSE_C                    326286 non-null  float64\n",
            "dtypes: float64(22), uint8(2)\n",
            "memory usage: 57.9 MB\n"
          ]
        }
      ],
      "source": [
        "df.info()"
      ]
    },
    {
      "cell_type": "code",
      "execution_count": null,
      "metadata": {
        "id": "wJZULLr3S0fH"
      },
      "outputs": [],
      "source": [
        "# df = df.to_numpy()"
      ]
    },
    {
      "cell_type": "code",
      "execution_count": null,
      "metadata": {
        "colab": {
          "base_uri": "https://localhost:8080/"
        },
        "id": "_QiGCBVKEyP9",
        "outputId": "7a2bbf68-ef28-4078-f54d-122abcc95dce"
      },
      "outputs": [
        {
          "data": {
            "text/plain": [
              "(293657, 24)"
            ]
          },
          "execution_count": 45,
          "metadata": {},
          "output_type": "execute_result"
        }
      ],
      "source": [
        "from sklearn.model_selection import train_test_split\n",
        "X_train,X_test,Y_train,Y_test=train_test_split(df,y,test_size=0.1, random_state=42)\n",
        "X_train.shape"
      ]
    },
    {
      "cell_type": "code",
      "execution_count": null,
      "metadata": {
        "colab": {
          "base_uri": "https://localhost:8080/"
        },
        "id": "VnII7T-TEyR8",
        "outputId": "2e9c4d2e-0147-43b0-b5ee-9b75ce73c222"
      },
      "outputs": [
        {
          "data": {
            "text/plain": [
              "(32629, 24)"
            ]
          },
          "execution_count": 46,
          "metadata": {},
          "output_type": "execute_result"
        }
      ],
      "source": [
        "X_test.shape"
      ]
    },
    {
      "cell_type": "code",
      "execution_count": null,
      "metadata": {
        "colab": {
          "base_uri": "https://localhost:8080/"
        },
        "id": "dbHtHV9UEyUS",
        "outputId": "90b99f15-8f71-4d42-9469-68fc9dfdb214"
      },
      "outputs": [
        {
          "data": {
            "text/plain": [
              "RandomForestClassifier()"
            ]
          },
          "execution_count": 47,
          "metadata": {},
          "output_type": "execute_result"
        }
      ],
      "source": [
        "from sklearn.linear_model import LogisticRegression\n",
        "log=LogisticRegression(random_state=0)\n",
        "log.fit(X_train,Y_train)\n",
        "\n",
        "from sklearn.tree import DecisionTreeClassifier\n",
        "tree=DecisionTreeClassifier()\n",
        "tree.fit(X_train,Y_train)\n",
        "\n",
        "from sklearn.ensemble import RandomForestClassifier\n",
        "forest=RandomForestClassifier()\n",
        "forest.fit(X_train,Y_train)\n",
        "\n",
        "# from sklearn.svm import SVC\n",
        "# svc=SVC()\n",
        "# svc.fit(X_train,Y_train)"
      ]
    },
    {
      "cell_type": "code",
      "execution_count": null,
      "metadata": {
        "colab": {
          "base_uri": "https://localhost:8080/"
        },
        "id": "mCvElau3EyW8",
        "outputId": "fb58caf0-1721-44d5-ccf5-9227e686d494"
      },
      "outputs": [
        {
          "name": "stdout",
          "output_type": "stream",
          "text": [
            "accuracy report log 0.9582579913573814\n",
            "\n",
            " mean squared error for log 0.04174200864261853\n",
            "\n",
            " accuracy report tree 0.9175886481350946\n",
            "\n",
            " mean squared error for tree  0.08241135186490545\n",
            "\n",
            " accuracy report forest 0.9576450396886206\n",
            "\n",
            " mean squared error for forest 0.04235496031137945\n"
          ]
        }
      ],
      "source": [
        "from sklearn.metrics import accuracy_score\n",
        "from sklearn.metrics import mean_squared_error\n",
        "\n",
        "print(\"accuracy report log\",accuracy_score(Y_test, log.predict(X_test)))\n",
        "print(\"\\n mean squared error for log\",mean_squared_error(Y_test, log.predict(X_test)))\n",
        " \n",
        "print(\"\\n accuracy report tree\",accuracy_score(Y_test, tree.predict(X_test)))\n",
        "print(\"\\n mean squared error for tree \",mean_squared_error(Y_test, tree.predict(X_test)))\n",
        "\n",
        "print(\"\\n accuracy report forest\",accuracy_score(Y_test, forest.predict(X_test)))\n",
        "print(\"\\n mean squared error for forest\",mean_squared_error(Y_test, forest.predict(X_test)))\n",
        "\n",
        "# print(\"\\n accuracy report knn\",accuracy_score(Y_test, knn.predict(X_test)))\n",
        "# print(\"\\n mean squared error for knn\",mean_squared_error(Y_test, knn.predict(X_test)))"
      ]
    },
    {
      "cell_type": "code",
      "execution_count": null,
      "metadata": {
        "colab": {
          "base_uri": "https://localhost:8080/"
        },
        "id": "hWp04Xz8i3x5",
        "outputId": "f576587d-19a2-4a89-c0ad-5f817f000306"
      },
      "outputs": [
        {
          "name": "stdout",
          "output_type": "stream",
          "text": [
            "accuracy for testing data: 0.9582579913573814\n"
          ]
        }
      ],
      "source": [
        "yhat=log.predict(X_test)\n",
        "print(\"accuracy for testing data:\",accuracy_score(yhat,Y_test))"
      ]
    },
    {
      "cell_type": "code",
      "execution_count": null,
      "metadata": {
        "colab": {
          "base_uri": "https://localhost:8080/"
        },
        "id": "WAQ1_3Dbi8WA",
        "outputId": "f0942bc3-b55d-4bc2-a6d7-8abc5def2382"
      },
      "outputs": [
        {
          "name": "stdout",
          "output_type": "stream",
          "text": [
            "Classification report of Logistic Regression :-\n",
            "\n",
            "              precision    recall  f1-score   support\n",
            "\n",
            "           0       0.00      0.00      0.00      1360\n",
            "           1       0.96      1.00      0.98     31269\n",
            "\n",
            "    accuracy                           0.96     32629\n",
            "   macro avg       0.48      0.50      0.49     32629\n",
            "weighted avg       0.92      0.96      0.94     32629\n",
            "\n"
          ]
        }
      ],
      "source": [
        "from sklearn.metrics import classification_report\n",
        "\n",
        "print(\"Classification report of Logistic Regression :-\\n\")\n",
        "cla_rep=classification_report(Y_test, log.predict(X_test))\n",
        "print(cla_rep)"
      ]
    },
    {
      "cell_type": "code",
      "execution_count": null,
      "metadata": {
        "colab": {
          "base_uri": "https://localhost:8080/"
        },
        "id": "ZHuE99RyHUIi",
        "outputId": "1db52bfa-f097-4a51-dfb8-df3917ef3eb3"
      },
      "outputs": [
        {
          "data": {
            "text/plain": [
              "0.9378918596392252"
            ]
          },
          "execution_count": 51,
          "metadata": {},
          "output_type": "execute_result"
        }
      ],
      "source": [
        "from sklearn import metrics\n",
        "metrics.f1_score(Y_test, yhat, average='weighted', labels=np.unique(yhat))"
      ]
    },
    {
      "cell_type": "code",
      "execution_count": null,
      "metadata": {
        "colab": {
          "base_uri": "https://localhost:8080/"
        },
        "id": "OtAAyof0tG5D",
        "outputId": "7a6e298f-55b5-43ea-c662-6331ca99fc26"
      },
      "outputs": [
        {
          "name": "stdout",
          "output_type": "stream",
          "text": [
            "accuracy for testing data: 0.9175886481350946\n"
          ]
        }
      ],
      "source": [
        "yhat2=tree.predict(X_test)\n",
        "print(\"accuracy for testing data:\",accuracy_score(yhat2,Y_test))"
      ]
    },
    {
      "cell_type": "code",
      "execution_count": null,
      "metadata": {
        "colab": {
          "base_uri": "https://localhost:8080/"
        },
        "id": "B3E_OPMijEAB",
        "outputId": "5d20df5a-5adb-4d25-c84a-9acdc50bcf52"
      },
      "outputs": [
        {
          "name": "stdout",
          "output_type": "stream",
          "text": [
            "Classification report of Decision Tree Classiifer :-\n",
            "\n",
            "              precision    recall  f1-score   support\n",
            "\n",
            "           0       0.12      0.15      0.13      1360\n",
            "           1       0.96      0.95      0.96     31269\n",
            "\n",
            "    accuracy                           0.92     32629\n",
            "   macro avg       0.54      0.55      0.54     32629\n",
            "weighted avg       0.93      0.92      0.92     32629\n",
            "\n"
          ]
        }
      ],
      "source": [
        "from sklearn.metrics import classification_report\n",
        "\n",
        "print(\"Classification report of Decision Tree Classiifer :-\\n\")\n",
        "cla_rep=classification_report(Y_test, yhat2)\n",
        "print(cla_rep)"
      ]
    },
    {
      "cell_type": "code",
      "execution_count": null,
      "metadata": {
        "colab": {
          "base_uri": "https://localhost:8080/"
        },
        "id": "FnQrwgDPtUdI",
        "outputId": "e58f8e4b-8939-4c41-8912-3335ab0aaabe"
      },
      "outputs": [
        {
          "data": {
            "text/plain": [
              "RandomForestClassifier()"
            ]
          },
          "execution_count": 54,
          "metadata": {},
          "output_type": "execute_result"
        }
      ],
      "source": [
        "from sklearn.ensemble import RandomForestClassifier\n",
        "forest=RandomForestClassifier()\n",
        "forest.fit(X_train,Y_train)\n",
        "\n"
      ]
    },
    {
      "cell_type": "code",
      "execution_count": null,
      "metadata": {
        "colab": {
          "base_uri": "https://localhost:8080/"
        },
        "id": "i17xPalBQDGE",
        "outputId": "3ae3b0cd-15bc-4c1e-ff39-1b45f671fe20"
      },
      "outputs": [
        {
          "name": "stdout",
          "output_type": "stream",
          "text": [
            "accuracy for testing data: 0.9574918017714303\n",
            "              precision    recall  f1-score   support\n",
            "\n",
            "           0       0.27      0.01      0.02      1360\n",
            "           1       0.96      1.00      0.98     31269\n",
            "\n",
            "    accuracy                           0.96     32629\n",
            "   macro avg       0.61      0.51      0.50     32629\n",
            "weighted avg       0.93      0.96      0.94     32629\n",
            "\n"
          ]
        }
      ],
      "source": [
        "yhat12=forest.predict(X_test)\n",
        "print(\"accuracy for testing data:\",accuracy_score(yhat12,Y_test))\n",
        "cla_rep=classification_report(Y_test, yhat12)\n",
        "print(cla_rep)"
      ]
    },
    {
      "cell_type": "code",
      "execution_count": null,
      "metadata": {
        "colab": {
          "base_uri": "https://localhost:8080/"
        },
        "id": "bYzoXEaFtezJ",
        "outputId": "15ad45c2-4a41-4f21-dc07-a54168691582"
      },
      "outputs": [
        {
          "data": {
            "text/plain": [
              "LinearRegression()"
            ]
          },
          "execution_count": 56,
          "metadata": {},
          "output_type": "execute_result"
        }
      ],
      "source": [
        "from sklearn import linear_model\n",
        "lin = linear_model.LinearRegression()\n",
        "lin.fit(X_train,Y_train)"
      ]
    },
    {
      "cell_type": "code",
      "execution_count": null,
      "metadata": {
        "id": "tbs3qQnXhOGA"
      },
      "outputs": [],
      "source": []
    },
    {
      "cell_type": "code",
      "execution_count": null,
      "metadata": {
        "colab": {
          "base_uri": "https://localhost:8080/"
        },
        "id": "5rpmFfVUQQUJ",
        "outputId": "c7b88ad0-52e4-4479-8522-250343e34155"
      },
      "outputs": [
        {
          "name": "stdout",
          "output_type": "stream",
          "text": [
            "Classification report of Linear Regression :-\n",
            "\n",
            "              precision    recall  f1-score   support\n",
            "\n",
            "           0       0.12      0.15      0.13      1360\n",
            "           1       0.96      0.95      0.96     31269\n",
            "\n",
            "    accuracy                           0.92     32629\n",
            "   macro avg       0.54      0.55      0.54     32629\n",
            "weighted avg       0.93      0.92      0.92     32629\n",
            "\n"
          ]
        }
      ],
      "source": [
        "yhat3=tree.predict(X_test)\n",
        "print(\"Classification report of Linear Regression :-\\n\")\n",
        "cla_rep=classification_report(Y_test, yhat3)\n",
        "print(cla_rep)"
      ]
    },
    {
      "cell_type": "code",
      "execution_count": null,
      "metadata": {
        "id": "_ByIF-FlodO_"
      },
      "outputs": [],
      "source": [
        "# train models\n",
        "from sklearn.linear_model import LogisticRegression\n",
        "from sklearn.neighbors import KNeighborsClassifier\n",
        "\n",
        "# logistic regression\n",
        "model1 = LogisticRegression()\n",
        "# knn\n",
        "knn = KNeighborsClassifier(n_neighbors=4)\n",
        "\n",
        "# fit model\n",
        "model1.fit(X_train, Y_train)\n",
        "knn.fit(X_train, Y_train)\n",
        "\n",
        "# predict probabilities\n",
        "pred_prob1 = log.predict_proba(X_test)\n",
        "pred_prob2 = tree.predict_proba(X_test)\n",
        "pred_prob3 = forest.predict_proba(X_test)\n",
        "pred_prob4 = knn.predict_proba(X_test)"
      ]
    },
    {
      "cell_type": "code",
      "execution_count": null,
      "metadata": {
        "colab": {
          "base_uri": "https://localhost:8080/"
        },
        "id": "dag9pQWM2n0i",
        "outputId": "6c6e2195-ba34-4915-924b-97eac0a74287"
      },
      "outputs": [
        {
          "name": "stdout",
          "output_type": "stream",
          "text": [
            "Confusion matrix : \n",
            " [[31267     2]\n",
            " [ 1360     0]]\n",
            "Outcome values : \n",
            " 31267 2 1360 0\n"
          ]
        }
      ],
      "source": [
        "from sklearn.metrics import confusion_matrix\n",
        "matrix = confusion_matrix(Y_test,yhat, labels=[1,0])\n",
        "print('Confusion matrix : \\n',matrix)\n",
        "\n",
        "tp, fn, fp, tn = confusion_matrix(Y_test,yhat, labels=[1,0]).reshape(-1)\n",
        "print('Outcome values : \\n', tp, fn, fp, tn)"
      ]
    },
    {
      "cell_type": "code",
      "execution_count": null,
      "metadata": {
        "colab": {
          "base_uri": "https://localhost:8080/"
        },
        "id": "mbAgnjZUh12r",
        "outputId": "55c00be3-f837-4150-8c87-e5edf75668da"
      },
      "outputs": [
        {
          "name": "stdout",
          "output_type": "stream",
          "text": [
            "Classification report of Random Forest :-\n",
            "\n",
            "              precision    recall  f1-score   support\n",
            "\n",
            "           0       0.27      0.01      0.02      1360\n",
            "           1       0.96      1.00      0.98     31269\n",
            "\n",
            "    accuracy                           0.96     32629\n",
            "   macro avg       0.61      0.51      0.50     32629\n",
            "weighted avg       0.93      0.96      0.94     32629\n",
            "\n"
          ]
        }
      ],
      "source": [
        "from sklearn.metrics import classification_report\n",
        "\n",
        "print(\"Classification report of Random Forest :-\\n\")\n",
        "cla_rep=classification_report(Y_test, forest.predict(X_test))\n",
        "print(cla_rep)"
      ]
    },
    {
      "cell_type": "code",
      "execution_count": null,
      "metadata": {
        "id": "pHJ5WUtSi9op"
      },
      "outputs": [],
      "source": [
        "from tensorflow.keras.models import Sequential\n",
        "from tensorflow.keras.layers import Input, Dense, Dropout"
      ]
    },
    {
      "cell_type": "code",
      "execution_count": null,
      "metadata": {
        "id": "ov3dF_S005tK"
      },
      "outputs": [],
      "source": [
        "model = Sequential()\n",
        "model.add(Input(shape=(24,)))\n",
        "model.add(Dense(1, activation = 'relu'))\n",
        "# model.add(Dropout(0,2))\n",
        "model.add(Dense(1, activation='relu'))\n",
        "model.add(Dense(1, activation = 'relu'))\n",
        "# model.add(Dropout(0,2))\n",
        "model.add(Dense(1, activation='sigmoid'))"
      ]
    },
    {
      "cell_type": "code",
      "execution_count": null,
      "metadata": {
        "id": "dirpczZ21f68"
      },
      "outputs": [],
      "source": [
        "model.compile(optimizer='sgd', loss='binary_crossentropy', metrics=['accuracy'])"
      ]
    },
    {
      "cell_type": "code",
      "execution_count": null,
      "metadata": {
        "colab": {
          "background_save": true,
          "base_uri": "https://localhost:8080/"
        },
        "id": "GxxUMQCJ1qQq",
        "outputId": "12147770-7e84-45af-e730-f82b90d03484"
      },
      "outputs": [
        {
          "name": "stdout",
          "output_type": "stream",
          "text": [
            "Epoch 1/10\n",
            "9177/9177 [==============================] - 19s 2ms/step - loss: 0.1937 - accuracy: 0.9583 - val_loss: 0.1733 - val_accuracy: 0.9583\n",
            "Epoch 2/10\n",
            "9177/9177 [==============================] - 14s 2ms/step - loss: 0.1731 - accuracy: 0.9584 - val_loss: 0.1733 - val_accuracy: 0.9583\n",
            "Epoch 3/10\n",
            "9177/9177 [==============================] - 14s 2ms/step - loss: 0.1731 - accuracy: 0.9584 - val_loss: 0.1733 - val_accuracy: 0.9583\n",
            "Epoch 4/10\n",
            "9177/9177 [==============================] - 14s 2ms/step - loss: 0.1731 - accuracy: 0.9584 - val_loss: 0.1733 - val_accuracy: 0.9583\n",
            "Epoch 5/10\n",
            "9177/9177 [==============================] - 14s 2ms/step - loss: 0.1731 - accuracy: 0.9584 - val_loss: 0.1732 - val_accuracy: 0.9583\n",
            "Epoch 6/10\n",
            "9177/9177 [==============================] - 14s 2ms/step - loss: 0.1731 - accuracy: 0.9584 - val_loss: 0.1733 - val_accuracy: 0.9583\n",
            "Epoch 7/10\n",
            "9177/9177 [==============================] - 16s 2ms/step - loss: 0.1731 - accuracy: 0.9584 - val_loss: 0.1733 - val_accuracy: 0.9583\n",
            "Epoch 8/10\n",
            "9177/9177 [==============================] - 15s 2ms/step - loss: 0.1731 - accuracy: 0.9584 - val_loss: 0.1733 - val_accuracy: 0.9583\n",
            "Epoch 9/10\n",
            "9177/9177 [==============================] - 18s 2ms/step - loss: 0.1731 - accuracy: 0.9584 - val_loss: 0.1733 - val_accuracy: 0.9583\n",
            "Epoch 10/10\n",
            "9177/9177 [==============================] - 14s 2ms/step - loss: 0.1731 - accuracy: 0.9584 - val_loss: 0.1732 - val_accuracy: 0.9583\n"
          ]
        },
        {
          "data": {
            "text/plain": [
              "<keras.callbacks.History at 0x7efd7c8cfc90>"
            ]
          },
          "execution_count": null,
          "metadata": {},
          "output_type": "execute_result"
        }
      ],
      "source": [
        "model.fit(X_train, Y_train, epochs=10, validation_data=(X_test, Y_test))"
      ]
    },
    {
      "cell_type": "code",
      "execution_count": null,
      "metadata": {
        "id": "HlbKkwz010-3"
      },
      "outputs": [],
      "source": [
        "import pickle\n",
        " \n",
        "# Save the trained model as a pickle string.\n",
        "saved_model = pickle.dumps(log)\n",
        " \n",
        "# Load the pickled model\n",
        "log_from_pickle = pickle.loads(saved_model)\n",
        " \n",
        "# Use the loaded pickled model to make predictions\n",
        "log_from_pickle.predict(X_test)"
      ]
    },
    {
      "cell_type": "code",
      "execution_count": null,
      "metadata": {
        "id": "o3tDkv7fP5eA"
      },
      "outputs": [],
      "source": [
        "filename = 'finalized_model.sav'\n",
        "pickle.dump(log, open(filename, 'wb'))"
      ]
    },
    {
      "cell_type": "code",
      "execution_count": null,
      "metadata": {
        "id": "xbeYl6yfQXht"
      },
      "outputs": [],
      "source": [
        "loaded_model = pickle.load(open(filename, 'rb'))"
      ]
    },
    {
      "cell_type": "code",
      "execution_count": null,
      "metadata": {
        "id": "OcIAp0NIQ83I"
      },
      "outputs": [],
      "source": [
        "print(X_test[:5])"
      ]
    },
    {
      "cell_type": "code",
      "execution_count": null,
      "metadata": {
        "id": "stLbD3nsTsea"
      },
      "outputs": [],
      "source": [
        "abc= [['25.0', '1.0','90.0','33.0', '103000.0', '90.0', '6.75','0.0', '0.0', '0.0', '360.0', '0.0', '0.0', '0.0', '0.0','1.0','1.0', '0.0','0.0','1.0', '0.0',]]"
      ]
    },
    {
      "cell_type": "code",
      "execution_count": null,
      "metadata": {
        "id": "BgbG3wjVUHnv"
      },
      "outputs": [],
      "source": [
        "print(log.predict(abc))"
      ]
    },
    {
      "cell_type": "code",
      "execution_count": null,
      "metadata": {
        "colab": {
          "base_uri": "https://localhost:8080/"
        },
        "id": "ihA8-NTrUK3e",
        "outputId": "24d3bce6-9492-433e-c8bc-606a192bdb5c"
      },
      "outputs": [
        {
          "name": "stdout",
          "output_type": "stream",
          "text": [
            "0.9583192865242576\n"
          ]
        }
      ],
      "source": [
        "# print(\"Classification report of the Deep learning model :-\\n\")\n",
        "# cla_rep=classification_report(Y_test, model.predict(X_test))\n",
        "# print(cla_rep)\n",
        "answer = model.predict(X_test)\n",
        "print(accuracy_score(Y_test, answer.round()))\n"
      ]
    },
    {
      "cell_type": "code",
      "execution_count": null,
      "metadata": {
        "id": "aN3FZsVkGXPU"
      },
      "outputs": [],
      "source": []
    }
  ],
  "metadata": {
    "colab": {
      "collapsed_sections": [],
      "provenance": []
    },
    "kernelspec": {
      "display_name": "Python 3",
      "name": "python3"
    },
    "language_info": {
      "name": "python"
    }
  },
  "nbformat": 4,
  "nbformat_minor": 0
}